{
 "cells": [
  {
   "cell_type": "code",
   "execution_count": 11,
   "metadata": {},
   "outputs": [],
   "source": [
    "from elasticsearch import Elasticsearch\n",
    "from elasticsearch.helpers import bulk\n",
    "from pathlib import Path"
   ]
  },
  {
   "cell_type": "code",
   "execution_count": 32,
   "metadata": {},
   "outputs": [],
   "source": [
    "INDEX = 'kixx'\n",
    "es = Elasticsearch()"
   ]
  },
  {
   "cell_type": "code",
   "execution_count": 33,
   "metadata": {},
   "outputs": [],
   "source": [
    "def reset_index(index):\n",
    "    if es.indices.exists(index):\n",
    "        es.indices.delete(index)\n",
    "    es.indices.create(index)\n",
    "    # set English analyzer\n",
    "    settings = {\n",
    "        \"analysis\": {\n",
    "            \"analyzer\": {\n",
    "                \"default\": {\n",
    "                    \"type\": \"english\"\n",
    "                }\n",
    "            }\n",
    "        }\n",
    "    }\n",
    "    es.indices.close(index)\n",
    "    es.indices.put_settings(body=settings, index=index)\n",
    "    es.indices.open(index)\n",
    "    \n",
    "reset_index(INDEX)"
   ]
  },
  {
   "cell_type": "code",
   "execution_count": 34,
   "metadata": {},
   "outputs": [],
   "source": [
    "def get_action(title, text, index):\n",
    "    return {\n",
    "        '_index': index,\n",
    "        '_type': 'evidence',\n",
    "        '_source': {\n",
    "            'title': title,\n",
    "            'text': text\n",
    "        }\n",
    "    }"
   ]
  },
  {
   "cell_type": "code",
   "execution_count": 35,
   "metadata": {},
   "outputs": [
    {
     "data": {
      "text/plain": [
       "(43, [])"
      ]
     },
     "execution_count": 35,
     "metadata": {},
     "output_type": "execute_result"
    }
   ],
   "source": [
    "files = Path('../data/kixx').glob('*_sp.txt')\n",
    "actions = []\n",
    "for f in files:\n",
    "    with f.open(encoding='utf-8-sig') as fin:\n",
    "        title, text = fin.name.split('\\\\')[-1], fin.read()\n",
    "        action = get_action(title, text, INDEX)\n",
    "        actions.append(action)\n",
    "        \n",
    "bulk(es, actions)"
   ]
  },
  {
   "cell_type": "code",
   "execution_count": null,
   "metadata": {},
   "outputs": [],
   "source": []
  }
 ],
 "metadata": {
  "kernelspec": {
   "display_name": "Python 3",
   "language": "python",
   "name": "python3"
  },
  "language_info": {
   "codemirror_mode": {
    "name": "ipython",
    "version": 3
   },
   "file_extension": ".py",
   "mimetype": "text/x-python",
   "name": "python",
   "nbconvert_exporter": "python",
   "pygments_lexer": "ipython3",
   "version": "3.7.1"
  }
 },
 "nbformat": 4,
 "nbformat_minor": 2
}
