{
 "cells": [
  {
   "cell_type": "code",
   "execution_count": 1,
   "metadata": {},
   "outputs": [],
   "source": [
    "#!/usr/bin/env python\n",
    "# coding: utf-8"
   ]
  },
  {
   "cell_type": "code",
   "execution_count": 2,
   "metadata": {},
   "outputs": [
    {
     "name": "stderr",
     "output_type": "stream",
     "text": [
      "C:\\Users\\Doyeon\\Anaconda3\\envs\\suggestbot-demo\\lib\\site-packages\\gensim\\utils.py:1197: UserWarning: detected Windows; aliasing chunkize to chunkize_serial\n",
      "  warnings.warn(\"detected Windows; aliasing chunkize to chunkize_serial\")\n"
     ]
    },
    {
     "name": "stdout",
     "output_type": "stream",
     "text": [
      "Better speed can be achieved with apex installed from https://www.github.com/nvidia/apex.\n"
     ]
    }
   ],
   "source": [
    "from helper import SentenceRetriever\n",
    "from helper import SentenceSelector as SentenceSelectorKialo\n",
    "from helper import SentenceSelectorPytorch as SentenceSelectorIBM\n",
    "from helper import StanceClassifier\n",
    "from pprint import pprint"
   ]
  },
  {
   "cell_type": "code",
   "execution_count": 3,
   "metadata": {},
   "outputs": [],
   "source": [
    "def setting(document):\n",
    "    if document == 'kix':\n",
    "        INDEX = 'kixx' # Use hand-annotated documents (small - 46 docs)\n",
    "    elif document == 'newsplease':\n",
    "        INDEX = 'news-please' # Use crawled documents (big - 10,000,000)\n",
    "    \n",
    "    return INDEX"
   ]
  },
  {
   "cell_type": "code",
   "execution_count": 4,
   "metadata": {},
   "outputs": [],
   "source": [
    "# Initialize modules\n",
    "def get_candidates(claim, doc_k, sent_k):\n",
    "    candidates = sentence_retriever.search(claim, doc_k=doc_k, sent_k=sent_k)\n",
    "    return candidates"
   ]
  },
  {
   "cell_type": "code",
   "execution_count": 5,
   "metadata": {},
   "outputs": [],
   "source": [
    "def get_claim_list(mode):\n",
    "    \n",
    "    gihyuk_claims = ['If Australia can take 18,000 refugees, if Canada can take 25,000, if France can take 35,000, then the United States, 10 times the size of Canada, can take 100,000 refugees.',\n",
    "              'It takes 18 to 24 months for the average Syrian refugee to get through the security screening process.',\n",
    "              'Most the refugees are in the Middle East. And that\\'s where most of the help is going.',\n",
    "              'Almost two-thirds of Germans say their country has accepted too many refugees.',\n",
    "              'Accepting refugees benefit the citizens of high-income countries.',\n",
    "              'Taking in refugees costs a lot of money.',\n",
    "              'All high-income countries are signatories to the 1951 Refugee Convention.',\n",
    "              'Taking in refugees will increase criminality within host countries.',\n",
    "              'Most refugees arriving in high-income countries are Muslims; their cultural and religious backgrounds have led to many conflicts in the past.',\n",
    "              'Accepting refugees can be a solution to the problem of aging populations.']\n",
    "    kix_claims = [\"We've when you hear these stories of actual terrorists who came in as actual refugees,\",\n",
    "                  'and it seeks to propagate what it calls, a clash of civilizations, borrowing from a Western book of that name.',\n",
    "                  \"One just in December. Now, they weren't refugees. They were the children of refugees. When you admit somebody, you are admitting their posterity.\",\n",
    "                  \"One more point. The Boston Bombing Marathon bombers, the Tsarnaev brothers they're not refugees. They were asylum seekers.\",\n",
    "                  \"Let me say that again. Each refugee case has an intelligence community driven dossier. A  That's why it takes 18 to 24 months. So we can bring them in with an assurance of very good safety, and the record shows that.\",\n",
    "                  'When I say mass, I mean mass, Clearly, there are individuals and families who need to be in the West, who have family connections, who belong to the small but real former Syrian urban elite. Many of them have actually already resettled themselves with friends and family here in the West.',\n",
    "                  'But resettlement of 100,000 refugees is important and for goodness sake, if Australia can take 18,000, if Canada can take 25,000, if France can take 35,000, then the United States, 10 times the size of Canada, can take 100,000 refugees.',\n",
    "                  'It takes 18 to 24 months for the average Syrian refugee to get through the security screening process.',\n",
    "                  'and then we hear the president and his allies, who are pushing for this 100,000 Syrian refugees to be admitted and talk about the 18 to 24 month vetting period,',\n",
    "                  \"We don't force women to wear veils, we don't subordinate Christians and Jews, and we don't allow young men opportunities to engage in massive gratuitous violence.\",\n",
    "                  'About 10 Somali Americans in the past two years have been charged with plotting to assist ISIS.',\n",
    "                  'Multiple U.S. government intelligence agencies, including the CIA, the National Counterterrorism Center, the FBI, the Defense Department, the State Department, and other intelligence agencies are involved in building a dossier for each refugee case.',\n",
    "                  'who are currently charging 1,200 euros for desperate people to get the six kilometers from Turkey to Greece.',\n",
    "                  'I mean they murdered I mean, I know one of the people they murdered and he was a wonderful man, was a journalist, Jim Foley.',\n",
    "                  \"Well, let's look at Westerners who actually have been recruited to ISIS, and let's see what their grievances were. We do many things that ISIS doesn't like. We don't force women to wear veils,\",\n",
    " 'Look, clearly ISIS is not having any trouble recruiting with or without Donald Trump.',\n",
    "                  'The process of screening is very long. It takes 18 to 24 months for the average Syrian refugee to get through the security screening process.',\n",
    "                  'We are talking about what is to be done with the very, very large numbers of Syrian refugees who do not have prior connections to the West, who are not who have no family, who are not connected to people here,',\n",
    " 'Almost two-thirds of Germans say their country has accepted too many refugees',\n",
    "                  'They hate us, as some clever writer recently said, not because of what we do, because of who we are.',\n",
    "                  'Most of them are in the Middle East',\n",
    "                  'In the past decade, about 50 Somali Americans have traveled to Somalia to fight for Al Shabaab, a terror organization.',\n",
    "                  \"Let me say that again. Each refugee case has an intelligence community driven dossier. A  That's why it takes 18 to 24 months.\",\n",
    "                  \"There's even biometric data that is first collected from the refugees by the United Nations, a screening process.\",\n",
    "                  'Refuge resettlement is needed now, because an organized, legal route to hope in the U.S., as well as in Canada and Australia, will disempower the smugglers who are currently charging 1,200 euros for desperate people to get the six kilometers from Turkey to Greece.']\n",
    "    \n",
    "    total_claims = [\"We've when you hear these stories of actual terrorists who came in as actual refugees, and then we hear the president and his allies, who are pushing for this 100,000 Syrian refugees to be admitted and talk about the 18 to 24 month vetting period, which is really, you know, more of a waiting period than no one spends 18 to 24 months investigating refugees.\",\n",
    " \"It's a risk. And it's just not a couple of people.\",\n",
    " \"One just in December. Now, they weren't refugees. They were the children of refugees. When you admit somebody, you are admitting their posterity.\",\n",
    " \"That's why they recruit by showing videos of burning people alive and drowning them in cages.\",\n",
    " \"I don't think it's relevant to the debate because the question is what should the United States government do and the primary responsibility of our government is to look after our national interests and to look after Americans and the people who are living here, and not to base what we do on what ISIS might do.\",\n",
    " \"The truth is that even our fabulous screening system, which is supposedly better than anyone else's in the world has made some mistakes before.\",\n",
    " 'Let me say that again. Each refugee case has an intelligence community driven dossier.',\n",
    " 'So, we have CIA. We have the FBI. National Center for Counter-Terrorism. Defense Department.',\n",
    " 'They collect other information from other sources about where they come from, their town, their neighborhood, their neighbors.',\n",
    " 'Let me explain why.',\n",
    " 'It takes 18 to 24 months for the average Syrian refugee to get through the security screening process.',\n",
    " 'Almost two-thirds of Germans say their country has accepted too many refugees and here in the United States, too, a new sobriety about Syrian refugees is taking hold.',\n",
    " 'But resettlement of 100,000 refugees is important and for goodness sake, if Australia can take 18,000, if Canada can take 25,000, if France can take 35,000, then the United States, 10 times the size of Canada, can take 100,000 refugees.',\n",
    " 'I will open by arguing that mass resettlement of refugees in the Middle East is not in the American interest.',\n",
    " 'How many terrorist mistakes would be acceptable for us to admit to our refugee. How many is acceptable?',\n",
    " \"I think there's a really important piece of understanding for people.\",\n",
    " \"And the Islamic State I mean, I'm sure many of the people in the audience, many all of you, have seen these videos they do.\",\n",
    " \"It has everything to do with perception. That's why this group in Somalia, Shabaab, is using Donald Trump now to help with its recruitment.\",\n",
    " \"We hear that they're fingerprinted. We hear that we check databases.\",\n",
    " \"Most of them are in the Middle East and that's where most of the help is going.\",\n",
    " 'It has nothing to do with the facts. It has to do with the perception.',\n",
    " 'I would just say this. The process of screening is very long.',\n",
    " 'That is not who we are talking about.',\n",
    " 'And the whole purpose of their terrorist activity is precisely to foment the kind of fear that would lead people to say, America should admit no refugees, from Syria and the reason is very, very simple.',\n",
    " 'We hear that they have three interviews.',\n",
    " 'But for a minority, refugee resettlement is an essential part of the response.',\n",
    " 'Now, no one is saying that the majority of Syrian refugees will end up coming to the U.S. No one is saying that refugee resettlement is an alternative to aid in the Middle East or will bring the war to the end.',\n",
    " 'When I was in Syria I oversaw a refugee operation of the United States government.',\n",
    " 'About 10 Somali Americans in the past two years have been charged with plotting to assist ISIS.',\n",
    " \"So, a couple of points I'd make. Number one. Yes, your government's job is to protect your security, job one. Believe me, people in the United States government do know that.\",\n",
    " 'Sure. Well, while we all worked for our respective State Departments, obviously, my esteemed opponents over there never worked behind a visa window, because people just lie to you all day long down there.',\n",
    " \"And it is an honor system. And I've but I want to ask, you know, by extension of your logic, you admit we're going to make mistakes.\",\n",
    " 'Now, the Syria war shows few signs of ending and the refugees desperately need help.',\n",
    " \"And that's why don't believe me believe the Director of the FBI, who, with his top staff, has testified before Congress to say that it simply can't be done.\",\n",
    " 'Multiple U.S. government intelligence agencies, including the CIA, the National Counterterrorism Center, the FBI, the Defense Department, the State Department, and other intelligence agencies are involved in building a dossier for each refugee case.',\n",
    " 'Resettlement is needed now, because an organized, legal route to hope in the U.S., as well as in Canada and Australia, will disempower the smugglers who are currently charging 1,200 euros for desperate people to get the six kilometers from Turkey to Greece.',\n",
    " \"And maybe these the two most important they don't rely on one single source of information.\",\n",
    " \"One more point. The Boston Bombing Marathon bombers, the Tsarnaev brothers they're not refugees.\",\n",
    " 'This is partly an intelligence operation.',\n",
    " 'The jihadists threat we face, the threat of violent jihadist extremism, is very strategic in the actions that it takes, it seeks to sow fear among civilians, not just among armed forces, and it seeks to propagate what it calls, a clash of civilizations, borrowing from a Western book of that name.',\n",
    " \"They certainly don't rely only on the interview or the interviews that the refugee applicants have.\",\n",
    " 'They want their narrative is explicit, and it is that the Muslim world, one and a half billion Muslims around the world, are in the situation they are because of Christians and Jews.',\n",
    " \"Well, let's look at Westerners who actually have been recruited to ISIS, and let's see what their grievances were.\",\n",
    " \"And they're not going to be any nicer to us if we accept even 500,000 refugees from Syria. That’s just a fact.\",\n",
    " 'So we can bring them in with an assurance of very good safety, and the record shows that. The record shows that safety.',\n",
    " \"First, everybody none of us here like the Islamic State, and I certainly wouldn't for a minute no, I mean they murdered I mean, I know one of the people they murdered and he was a wonderful man, was a journalist, Jim Foley.\",\n",
    " 'Let me say that again. None of these are infallible. However, there are lots of failsafe mechanisms.',\n",
    " 'Look, clearly ISIS is not having any trouble recruiting with or without Donald Trump.',\n",
    " \"So it's not that they're a civil rights organization and they have facts. It's all about perception. It's all about perception.\",\n",
    " 'That is the essential heart of the jihadist message. And by saying, No Syrians should come to this country, you confirm all the prejudice at the heart of their message.',\n",
    " 'We are talking about what is to be done with the very, very large numbers of Syrian refugees who do not have prior connections to the West, who are not who have no family, who are not connected to people here, and who lack the aptitudes and skills that would normally qualify them for the usual immigration processes.',\n",
    " \"Then it's checked back with biometric data that our intelligence agencies have. Several different offices of Homeland Security. Now, none of these are infallible.\",\n",
    " \"That's why it takes 18 to 24 months.\",\n",
    " \"There's even biometric data that is first collected from the refugees by the United Nations, a screening process.\",\n",
    " 'Number two. The question is how best to guarantee American security. Is it to have a coordinated policy or to have different hands working at cross purposes? Number three, no one in the United States government ever allows the United Nations to decide who comes in to the United States.',\n",
    " 'When I say mass, I mean mass, Clearly, there are individuals and families who need to be in the West, who have family connections, who belong to the small but real former Syrian urban elite.',\n",
    " \"We do many things that ISIS doesn't like. We don't force women to wear veils, we don't subordinate Christians and Jews, and we don't allow young men opportunities to engage in massive gratuitous violence.\",\n",
    " 'They hate us, as some clever writer recently said, not because of what we do, because of who we are.',\n",
    " 'Many of them have actually already resettled themselves with friends and family here in the West.',\n",
    " 'It was in our embassy in Damascus and when I was deputy ambassador in Iraq we had a similar refugee office for Iraqi refugees coming to the United States.',\n",
    " 'That is not true. It is a cult that, in fact, delights in violence in its own.',\n",
    " 'And one of the ideas that is important to keep in mind is that the problems of admitting a mismatched population tend to show up in the second generation, not the first.',\n",
    " \"It's all about perception. It's Hollywood in an Islamic jihadi kind of way, and they play on that. It has nothing to do with facts.\",\n",
    " 'In the past decade, about 50 Somali Americans have traveled to Somalia to fight for Al Shabaab, a terror organization.',\n",
    " 'Most people would be repelled. The people they know they want are attracted.',\n",
    " \"That is what attracts people to ISIS. Imbedded in what David Miliband just said is an assumption that I urge you to reject, which is that ISIS's grievance ISIS is a kind of civil rights organization that has a that responds to rational grievances about job discrimination and exclusion.\",\n",
    " \"They were asylum seekers. In the immigration world, that technical legal distinction has a lot of importance. But in real life, I'm not sure it should matter so much.\"]\n",
    "    \n",
    "    return {1: gihyuk_claims, 2: kix_claims, 3: total_claims}[mode]"
   ]
  },
  {
   "cell_type": "code",
   "execution_count": 6,
   "metadata": {
    "scrolled": true
   },
   "outputs": [
    {
     "name": "stdout",
     "output_type": "stream",
     "text": [
      "[kix(5,WMD(30))-kialo]gihyuk claim_filter\n"
     ]
    },
    {
     "name": "stderr",
     "output_type": "stream",
     "text": [
      "2019-04-22 00:52:31,220 - helper.sentence_retriever - WARNING - Loading DocumentRetriever models...\n",
      "2019-04-22 00:52:48,042 - helper.sentence_selector - WARNING - Loading SentenceSelector model...\n"
     ]
    },
    {
     "name": "stdout",
     "output_type": "stream",
     "text": [
      "\n",
      "WARNING: The TensorFlow contrib module will not be included in TensorFlow 2.0.\n",
      "For more information, please see:\n",
      "  * https://github.com/tensorflow/community/blob/master/rfcs/20180907-contrib-sunset.md\n",
      "  * https://github.com/tensorflow/addons\n",
      "If you depend on functionality not listed there, please file an issue.\n",
      "\n"
     ]
    },
    {
     "name": "stderr",
     "output_type": "stream",
     "text": [
      "2019-04-22 00:52:48,820 - tensorflow - WARNING - Estimator's model_fn (<function model_fn_builder.<locals>.model_fn at 0x00000247520980D0>) includes params argument, but params are not passed to Estimator.\n",
      "2019-04-22 00:52:48,823 - tensorflow - WARNING - Using temporary folder as model directory: C:\\Users\\Doyeon\\AppData\\Local\\Temp\\tmpwt3hev7i\n",
      "2019-04-22 00:52:48,824 - tensorflow - WARNING - eval_on_tpu ignored because use_tpu is False.\n",
      "2019-04-22 00:52:48,825 - helper.stance_classifier - WARNING - Loading StanceClassifier models...\n",
      "2019-04-22 00:53:01,397 - helper.sentence_selector - WARNING - Finding Sentences...\n",
      "2019-04-22 00:53:01,483 - tensorflow - WARNING - From C:\\Users\\Doyeon\\Anaconda3\\envs\\suggestbot-demo\\lib\\site-packages\\tensorflow\\python\\ops\\resource_variable_ops.py:435: colocate_with (from tensorflow.python.framework.ops) is deprecated and will be removed in a future version.\n",
      "Instructions for updating:\n",
      "Colocations handled automatically by placer.\n",
      "2019-04-22 00:53:01,497 - tensorflow - WARNING - From C:\\Users\\Doyeon\\Desktop\\KAIST\\IR&NLP\\SuggestBot\\suggestbot_demo\\suggestbot-demo\\helper\\sentence_selector.py:230: map_and_batch (from tensorflow.contrib.data.python.ops.batching) is deprecated and will be removed in a future version.\n",
      "Instructions for updating:\n",
      "Use `tf.data.experimental.map_and_batch(...)`.\n",
      "2019-04-22 00:53:01,503 - tensorflow - WARNING - From C:\\Users\\Doyeon\\Desktop\\KAIST\\IR&NLP\\SuggestBot\\suggestbot_demo\\suggestbot-demo\\helper\\sentence_selector.py:210: to_int32 (from tensorflow.python.ops.math_ops) is deprecated and will be removed in a future version.\n",
      "Instructions for updating:\n",
      "Use tf.cast instead.\n",
      "2019-04-22 00:53:01,621 - tensorflow - WARNING - From C:\\Users\\Doyeon\\Desktop\\KAIST\\IR&NLP\\SuggestBot\\suggestbot_demo\\suggestbot-demo\\helper\\modeling.py:676: dense (from tensorflow.python.layers.core) is deprecated and will be removed in a future version.\n",
      "Instructions for updating:\n",
      "Use keras.layers.dense instead.\n",
      "2019-04-22 00:53:10,793 - tensorflow - WARNING - Reraising captured error\n"
     ]
    },
    {
     "ename": "InternalError",
     "evalue": "Blas GEMM launch failed : a.shape=(1024, 2), b.shape=(2, 768), m=1024, n=768, k=2\n\t [[node bert/embeddings/MatMul (defined at C:\\Users\\Doyeon\\Desktop\\KAIST\\IR&NLP\\SuggestBot\\suggestbot_demo\\suggestbot-demo\\helper\\modeling.py:487) ]]\n\t [[node loss/Softmax (defined at C:\\Users\\Doyeon\\Desktop\\KAIST\\IR&NLP\\SuggestBot\\suggestbot_demo\\suggestbot-demo\\helper\\sentence_selector.py:288) ]]\n\nCaused by op 'bert/embeddings/MatMul', defined at:\n  File \"C:\\Users\\Doyeon\\Anaconda3\\envs\\suggestbot-demo\\lib\\runpy.py\", line 193, in _run_module_as_main\n    \"__main__\", mod_spec)\n  File \"C:\\Users\\Doyeon\\Anaconda3\\envs\\suggestbot-demo\\lib\\runpy.py\", line 85, in _run_code\n    exec(code, run_globals)\n  File \"C:\\Users\\Doyeon\\Anaconda3\\envs\\suggestbot-demo\\lib\\site-packages\\ipykernel_launcher.py\", line 16, in <module>\n    app.launch_new_instance()\n  File \"C:\\Users\\Doyeon\\Anaconda3\\envs\\suggestbot-demo\\lib\\site-packages\\traitlets\\config\\application.py\", line 658, in launch_instance\n    app.start()\n  File \"C:\\Users\\Doyeon\\Anaconda3\\envs\\suggestbot-demo\\lib\\site-packages\\ipykernel\\kernelapp.py\", line 505, in start\n    self.io_loop.start()\n  File \"C:\\Users\\Doyeon\\Anaconda3\\envs\\suggestbot-demo\\lib\\site-packages\\tornado\\platform\\asyncio.py\", line 148, in start\n    self.asyncio_loop.run_forever()\n  File \"C:\\Users\\Doyeon\\Anaconda3\\envs\\suggestbot-demo\\lib\\asyncio\\base_events.py\", line 539, in run_forever\n    self._run_once()\n  File \"C:\\Users\\Doyeon\\Anaconda3\\envs\\suggestbot-demo\\lib\\asyncio\\base_events.py\", line 1775, in _run_once\n    handle._run()\n  File \"C:\\Users\\Doyeon\\Anaconda3\\envs\\suggestbot-demo\\lib\\asyncio\\events.py\", line 88, in _run\n    self._context.run(self._callback, *self._args)\n  File \"C:\\Users\\Doyeon\\Anaconda3\\envs\\suggestbot-demo\\lib\\site-packages\\tornado\\ioloop.py\", line 690, in <lambda>\n    lambda f: self._run_callback(functools.partial(callback, future))\n  File \"C:\\Users\\Doyeon\\Anaconda3\\envs\\suggestbot-demo\\lib\\site-packages\\tornado\\ioloop.py\", line 743, in _run_callback\n    ret = callback()\n  File \"C:\\Users\\Doyeon\\Anaconda3\\envs\\suggestbot-demo\\lib\\site-packages\\tornado\\gen.py\", line 781, in inner\n    self.run()\n  File \"C:\\Users\\Doyeon\\Anaconda3\\envs\\suggestbot-demo\\lib\\site-packages\\tornado\\gen.py\", line 742, in run\n    yielded = self.gen.send(value)\n  File \"C:\\Users\\Doyeon\\Anaconda3\\envs\\suggestbot-demo\\lib\\site-packages\\ipykernel\\kernelbase.py\", line 357, in process_one\n    yield gen.maybe_future(dispatch(*args))\n  File \"C:\\Users\\Doyeon\\Anaconda3\\envs\\suggestbot-demo\\lib\\site-packages\\tornado\\gen.py\", line 209, in wrapper\n    yielded = next(result)\n  File \"C:\\Users\\Doyeon\\Anaconda3\\envs\\suggestbot-demo\\lib\\site-packages\\ipykernel\\kernelbase.py\", line 267, in dispatch_shell\n    yield gen.maybe_future(handler(stream, idents, msg))\n  File \"C:\\Users\\Doyeon\\Anaconda3\\envs\\suggestbot-demo\\lib\\site-packages\\tornado\\gen.py\", line 209, in wrapper\n    yielded = next(result)\n  File \"C:\\Users\\Doyeon\\Anaconda3\\envs\\suggestbot-demo\\lib\\site-packages\\ipykernel\\kernelbase.py\", line 534, in execute_request\n    user_expressions, allow_stdin,\n  File \"C:\\Users\\Doyeon\\Anaconda3\\envs\\suggestbot-demo\\lib\\site-packages\\tornado\\gen.py\", line 209, in wrapper\n    yielded = next(result)\n  File \"C:\\Users\\Doyeon\\Anaconda3\\envs\\suggestbot-demo\\lib\\site-packages\\ipykernel\\ipkernel.py\", line 294, in do_execute\n    res = shell.run_cell(code, store_history=store_history, silent=silent)\n  File \"C:\\Users\\Doyeon\\Anaconda3\\envs\\suggestbot-demo\\lib\\site-packages\\ipykernel\\zmqshell.py\", line 536, in run_cell\n    return super(ZMQInteractiveShell, self).run_cell(*args, **kwargs)\n  File \"C:\\Users\\Doyeon\\Anaconda3\\envs\\suggestbot-demo\\lib\\site-packages\\IPython\\core\\interactiveshell.py\", line 2848, in run_cell\n    raw_cell, store_history, silent, shell_futures)\n  File \"C:\\Users\\Doyeon\\Anaconda3\\envs\\suggestbot-demo\\lib\\site-packages\\IPython\\core\\interactiveshell.py\", line 2874, in _run_cell\n    return runner(coro)\n  File \"C:\\Users\\Doyeon\\Anaconda3\\envs\\suggestbot-demo\\lib\\site-packages\\IPython\\core\\async_helpers.py\", line 67, in _pseudo_sync_runner\n    coro.send(None)\n  File \"C:\\Users\\Doyeon\\Anaconda3\\envs\\suggestbot-demo\\lib\\site-packages\\IPython\\core\\interactiveshell.py\", line 3049, in run_cell_async\n    interactivity=interactivity, compiler=compiler, result=result)\n  File \"C:\\Users\\Doyeon\\Anaconda3\\envs\\suggestbot-demo\\lib\\site-packages\\IPython\\core\\interactiveshell.py\", line 3214, in run_ast_nodes\n    if (yield from self.run_code(code, result)):\n  File \"C:\\Users\\Doyeon\\Anaconda3\\envs\\suggestbot-demo\\lib\\site-packages\\IPython\\core\\interactiveshell.py\", line 3296, in run_code\n    exec(code_obj, self.user_global_ns, self.user_ns)\n  File \"<ipython-input-6-a4063d042eeb>\", line 47, in <module>\n    claim, ranked_evidences = sentence_selector.get_evidences(claim, candidates, k=10)\n  File \"C:\\Users\\Doyeon\\Desktop\\KAIST\\IR&NLP\\SuggestBot\\suggestbot_demo\\suggestbot-demo\\helper\\sentence_selector.py\", line 398, in get_evidences\n    for prediction, instance in zip(result, predict_examples):\n  File \"C:\\Users\\Doyeon\\Anaconda3\\envs\\suggestbot-demo\\lib\\site-packages\\tensorflow\\contrib\\tpu\\python\\tpu\\tpu_estimator.py\", line 2494, in predict\n    yield_single_examples=yield_single_examples):\n  File \"C:\\Users\\Doyeon\\Anaconda3\\envs\\suggestbot-demo\\lib\\site-packages\\tensorflow_estimator\\python\\estimator\\estimator.py\", line 611, in predict\n    features, None, model_fn_lib.ModeKeys.PREDICT, self.config)\n  File \"C:\\Users\\Doyeon\\Anaconda3\\envs\\suggestbot-demo\\lib\\site-packages\\tensorflow\\contrib\\tpu\\python\\tpu\\tpu_estimator.py\", line 2251, in _call_model_fn\n    config)\n  File \"C:\\Users\\Doyeon\\Anaconda3\\envs\\suggestbot-demo\\lib\\site-packages\\tensorflow_estimator\\python\\estimator\\estimator.py\", line 1112, in _call_model_fn\n    model_fn_results = self._model_fn(features=features, **kwargs)\n  File \"C:\\Users\\Doyeon\\Anaconda3\\envs\\suggestbot-demo\\lib\\site-packages\\tensorflow\\contrib\\tpu\\python\\tpu\\tpu_estimator.py\", line 2534, in _model_fn\n    features, labels, is_export_mode=is_export_mode)\n  File \"C:\\Users\\Doyeon\\Anaconda3\\envs\\suggestbot-demo\\lib\\site-packages\\tensorflow\\contrib\\tpu\\python\\tpu\\tpu_estimator.py\", line 1323, in call_without_tpu\n    return self._call_model_fn(features, labels, is_export_mode=is_export_mode)\n  File \"C:\\Users\\Doyeon\\Anaconda3\\envs\\suggestbot-demo\\lib\\site-packages\\tensorflow\\contrib\\tpu\\python\\tpu\\tpu_estimator.py\", line 1593, in _call_model_fn\n    estimator_spec = self._model_fn(features=features, **kwargs)\n  File \"C:\\Users\\Doyeon\\Desktop\\KAIST\\IR&NLP\\SuggestBot\\suggestbot_demo\\suggestbot-demo\\helper\\sentence_selector.py\", line 318, in model_fn\n    num_labels, False)\n  File \"C:\\Users\\Doyeon\\Desktop\\KAIST\\IR&NLP\\SuggestBot\\suggestbot_demo\\suggestbot-demo\\helper\\sentence_selector.py\", line 263, in create_model\n    use_one_hot_embeddings=use_one_hot_embeddings)\n  File \"C:\\Users\\Doyeon\\Desktop\\KAIST\\IR&NLP\\SuggestBot\\suggestbot_demo\\suggestbot-demo\\helper\\modeling.py\", line 195, in __init__\n    dropout_prob=config.hidden_dropout_prob)\n  File \"C:\\Users\\Doyeon\\Desktop\\KAIST\\IR&NLP\\SuggestBot\\suggestbot_demo\\suggestbot-demo\\helper\\modeling.py\", line 487, in embedding_postprocessor\n    token_type_embeddings = tf.matmul(one_hot_ids, token_type_table)\n  File \"C:\\Users\\Doyeon\\Anaconda3\\envs\\suggestbot-demo\\lib\\site-packages\\tensorflow\\python\\ops\\math_ops.py\", line 2455, in matmul\n    a, b, transpose_a=transpose_a, transpose_b=transpose_b, name=name)\n  File \"C:\\Users\\Doyeon\\Anaconda3\\envs\\suggestbot-demo\\lib\\site-packages\\tensorflow\\python\\ops\\gen_math_ops.py\", line 5333, in mat_mul\n    name=name)\n  File \"C:\\Users\\Doyeon\\Anaconda3\\envs\\suggestbot-demo\\lib\\site-packages\\tensorflow\\python\\framework\\op_def_library.py\", line 788, in _apply_op_helper\n    op_def=op_def)\n  File \"C:\\Users\\Doyeon\\Anaconda3\\envs\\suggestbot-demo\\lib\\site-packages\\tensorflow\\python\\util\\deprecation.py\", line 507, in new_func\n    return func(*args, **kwargs)\n  File \"C:\\Users\\Doyeon\\Anaconda3\\envs\\suggestbot-demo\\lib\\site-packages\\tensorflow\\python\\framework\\ops.py\", line 3300, in create_op\n    op_def=op_def)\n  File \"C:\\Users\\Doyeon\\Anaconda3\\envs\\suggestbot-demo\\lib\\site-packages\\tensorflow\\python\\framework\\ops.py\", line 1801, in __init__\n    self._traceback = tf_stack.extract_stack()\n\nInternalError (see above for traceback): Blas GEMM launch failed : a.shape=(1024, 2), b.shape=(2, 768), m=1024, n=768, k=2\n\t [[node bert/embeddings/MatMul (defined at C:\\Users\\Doyeon\\Desktop\\KAIST\\IR&NLP\\SuggestBot\\suggestbot_demo\\suggestbot-demo\\helper\\modeling.py:487) ]]\n\t [[node loss/Softmax (defined at C:\\Users\\Doyeon\\Desktop\\KAIST\\IR&NLP\\SuggestBot\\suggestbot_demo\\suggestbot-demo\\helper\\sentence_selector.py:288) ]]\n",
     "output_type": "error",
     "traceback": [
      "\u001b[1;31m---------------------------------------------------------------------------\u001b[0m",
      "\u001b[1;31mInternalError\u001b[0m                             Traceback (most recent call last)",
      "\u001b[1;32m~\\Anaconda3\\envs\\suggestbot-demo\\lib\\site-packages\\tensorflow\\python\\client\\session.py\u001b[0m in \u001b[0;36m_do_call\u001b[1;34m(self, fn, *args)\u001b[0m\n\u001b[0;32m   1333\u001b[0m     \u001b[1;32mtry\u001b[0m\u001b[1;33m:\u001b[0m\u001b[1;33m\u001b[0m\u001b[1;33m\u001b[0m\u001b[0m\n\u001b[1;32m-> 1334\u001b[1;33m       \u001b[1;32mreturn\u001b[0m \u001b[0mfn\u001b[0m\u001b[1;33m(\u001b[0m\u001b[1;33m*\u001b[0m\u001b[0margs\u001b[0m\u001b[1;33m)\u001b[0m\u001b[1;33m\u001b[0m\u001b[1;33m\u001b[0m\u001b[0m\n\u001b[0m\u001b[0;32m   1335\u001b[0m     \u001b[1;32mexcept\u001b[0m \u001b[0merrors\u001b[0m\u001b[1;33m.\u001b[0m\u001b[0mOpError\u001b[0m \u001b[1;32mas\u001b[0m \u001b[0me\u001b[0m\u001b[1;33m:\u001b[0m\u001b[1;33m\u001b[0m\u001b[1;33m\u001b[0m\u001b[0m\n",
      "\u001b[1;32m~\\Anaconda3\\envs\\suggestbot-demo\\lib\\site-packages\\tensorflow\\python\\client\\session.py\u001b[0m in \u001b[0;36m_run_fn\u001b[1;34m(feed_dict, fetch_list, target_list, options, run_metadata)\u001b[0m\n\u001b[0;32m   1318\u001b[0m       return self._call_tf_sessionrun(\n\u001b[1;32m-> 1319\u001b[1;33m           options, feed_dict, fetch_list, target_list, run_metadata)\n\u001b[0m\u001b[0;32m   1320\u001b[0m \u001b[1;33m\u001b[0m\u001b[0m\n",
      "\u001b[1;32m~\\Anaconda3\\envs\\suggestbot-demo\\lib\\site-packages\\tensorflow\\python\\client\\session.py\u001b[0m in \u001b[0;36m_call_tf_sessionrun\u001b[1;34m(self, options, feed_dict, fetch_list, target_list, run_metadata)\u001b[0m\n\u001b[0;32m   1406\u001b[0m         \u001b[0mself\u001b[0m\u001b[1;33m.\u001b[0m\u001b[0m_session\u001b[0m\u001b[1;33m,\u001b[0m \u001b[0moptions\u001b[0m\u001b[1;33m,\u001b[0m \u001b[0mfeed_dict\u001b[0m\u001b[1;33m,\u001b[0m \u001b[0mfetch_list\u001b[0m\u001b[1;33m,\u001b[0m \u001b[0mtarget_list\u001b[0m\u001b[1;33m,\u001b[0m\u001b[1;33m\u001b[0m\u001b[1;33m\u001b[0m\u001b[0m\n\u001b[1;32m-> 1407\u001b[1;33m         run_metadata)\n\u001b[0m\u001b[0;32m   1408\u001b[0m \u001b[1;33m\u001b[0m\u001b[0m\n",
      "\u001b[1;31mInternalError\u001b[0m: Blas GEMM launch failed : a.shape=(1024, 2), b.shape=(2, 768), m=1024, n=768, k=2\n\t [[{{node bert/embeddings/MatMul}}]]\n\t [[{{node loss/Softmax}}]]",
      "\nDuring handling of the above exception, another exception occurred:\n",
      "\u001b[1;31mInternalError\u001b[0m                             Traceback (most recent call last)",
      "\u001b[1;32m<ipython-input-6-a4063d042eeb>\u001b[0m in \u001b[0;36m<module>\u001b[1;34m\u001b[0m\n\u001b[0;32m     45\u001b[0m                         \u001b[1;31m#print('Evidences with stances: ')\u001b[0m\u001b[1;33m\u001b[0m\u001b[1;33m\u001b[0m\u001b[1;33m\u001b[0m\u001b[0m\n\u001b[0;32m     46\u001b[0m                         \u001b[1;31m# 1. Select evidence sentences\u001b[0m\u001b[1;33m\u001b[0m\u001b[1;33m\u001b[0m\u001b[1;33m\u001b[0m\u001b[0m\n\u001b[1;32m---> 47\u001b[1;33m                         \u001b[0mclaim\u001b[0m\u001b[1;33m,\u001b[0m \u001b[0mranked_evidences\u001b[0m \u001b[1;33m=\u001b[0m \u001b[0msentence_selector\u001b[0m\u001b[1;33m.\u001b[0m\u001b[0mget_evidences\u001b[0m\u001b[1;33m(\u001b[0m\u001b[0mclaim\u001b[0m\u001b[1;33m,\u001b[0m \u001b[0mcandidates\u001b[0m\u001b[1;33m,\u001b[0m \u001b[0mk\u001b[0m\u001b[1;33m=\u001b[0m\u001b[1;36m10\u001b[0m\u001b[1;33m)\u001b[0m\u001b[1;33m\u001b[0m\u001b[1;33m\u001b[0m\u001b[0m\n\u001b[0m\u001b[0;32m     48\u001b[0m                         \u001b[1;31m#pprint(ranked_evidences)\u001b[0m\u001b[1;33m\u001b[0m\u001b[1;33m\u001b[0m\u001b[1;33m\u001b[0m\u001b[0m\n\u001b[0;32m     49\u001b[0m \u001b[1;33m\u001b[0m\u001b[0m\n",
      "\u001b[1;32m~\\Desktop\\KAIST\\IR&NLP\\SuggestBot\\suggestbot_demo\\suggestbot-demo\\helper\\sentence_selector.py\u001b[0m in \u001b[0;36mget_evidences\u001b[1;34m(self, claim, candidates, k)\u001b[0m\n\u001b[0;32m    396\u001b[0m         \u001b[0mresult\u001b[0m \u001b[1;33m=\u001b[0m \u001b[0mself\u001b[0m\u001b[1;33m.\u001b[0m\u001b[0mestimator\u001b[0m\u001b[1;33m.\u001b[0m\u001b[0mpredict\u001b[0m\u001b[1;33m(\u001b[0m\u001b[0minput_fn\u001b[0m\u001b[1;33m=\u001b[0m\u001b[0mpredict_input_fn\u001b[0m\u001b[1;33m)\u001b[0m\u001b[1;33m\u001b[0m\u001b[1;33m\u001b[0m\u001b[0m\n\u001b[0;32m    397\u001b[0m         \u001b[0mpositive_confidence\u001b[0m \u001b[1;33m=\u001b[0m \u001b[1;33m[\u001b[0m\u001b[1;33m]\u001b[0m\u001b[1;33m\u001b[0m\u001b[1;33m\u001b[0m\u001b[0m\n\u001b[1;32m--> 398\u001b[1;33m         \u001b[1;32mfor\u001b[0m \u001b[0mprediction\u001b[0m\u001b[1;33m,\u001b[0m \u001b[0minstance\u001b[0m \u001b[1;32min\u001b[0m \u001b[0mzip\u001b[0m\u001b[1;33m(\u001b[0m\u001b[0mresult\u001b[0m\u001b[1;33m,\u001b[0m \u001b[0mpredict_examples\u001b[0m\u001b[1;33m)\u001b[0m\u001b[1;33m:\u001b[0m\u001b[1;33m\u001b[0m\u001b[1;33m\u001b[0m\u001b[0m\n\u001b[0m\u001b[0;32m    399\u001b[0m             \u001b[0mpositive_confidence\u001b[0m\u001b[1;33m.\u001b[0m\u001b[0mappend\u001b[0m\u001b[1;33m(\u001b[0m\u001b[0mprediction\u001b[0m\u001b[1;33m[\u001b[0m\u001b[1;36m1\u001b[0m\u001b[1;33m]\u001b[0m\u001b[1;33m)\u001b[0m\u001b[1;33m\u001b[0m\u001b[1;33m\u001b[0m\u001b[0m\n\u001b[0;32m    400\u001b[0m \u001b[1;33m\u001b[0m\u001b[0m\n",
      "\u001b[1;32m~\\Anaconda3\\envs\\suggestbot-demo\\lib\\site-packages\\tensorflow\\contrib\\tpu\\python\\tpu\\tpu_estimator.py\u001b[0m in \u001b[0;36mpredict\u001b[1;34m(self, input_fn, predict_keys, hooks, checkpoint_path, yield_single_examples)\u001b[0m\n\u001b[0;32m   2498\u001b[0m     \u001b[1;32mfinally\u001b[0m\u001b[1;33m:\u001b[0m\u001b[1;33m\u001b[0m\u001b[1;33m\u001b[0m\u001b[0m\n\u001b[0;32m   2499\u001b[0m       \u001b[0mrendezvous\u001b[0m\u001b[1;33m.\u001b[0m\u001b[0mrecord_done\u001b[0m\u001b[1;33m(\u001b[0m\u001b[1;34m'prediction_loop'\u001b[0m\u001b[1;33m)\u001b[0m\u001b[1;33m\u001b[0m\u001b[1;33m\u001b[0m\u001b[0m\n\u001b[1;32m-> 2500\u001b[1;33m       \u001b[0mrendezvous\u001b[0m\u001b[1;33m.\u001b[0m\u001b[0mraise_errors\u001b[0m\u001b[1;33m(\u001b[0m\u001b[1;33m)\u001b[0m\u001b[1;33m\u001b[0m\u001b[1;33m\u001b[0m\u001b[0m\n\u001b[0m\u001b[0;32m   2501\u001b[0m \u001b[1;33m\u001b[0m\u001b[0m\n\u001b[0;32m   2502\u001b[0m     \u001b[0mrendezvous\u001b[0m\u001b[1;33m.\u001b[0m\u001b[0mrecord_done\u001b[0m\u001b[1;33m(\u001b[0m\u001b[1;34m'prediction_loop'\u001b[0m\u001b[1;33m)\u001b[0m\u001b[1;33m\u001b[0m\u001b[1;33m\u001b[0m\u001b[0m\n",
      "\u001b[1;32m~\\Anaconda3\\envs\\suggestbot-demo\\lib\\site-packages\\tensorflow\\contrib\\tpu\\python\\tpu\\error_handling.py\u001b[0m in \u001b[0;36mraise_errors\u001b[1;34m(self, timeout_sec)\u001b[0m\n\u001b[0;32m    126\u001b[0m       \u001b[1;32melse\u001b[0m\u001b[1;33m:\u001b[0m\u001b[1;33m\u001b[0m\u001b[1;33m\u001b[0m\u001b[0m\n\u001b[0;32m    127\u001b[0m         \u001b[0mlogging\u001b[0m\u001b[1;33m.\u001b[0m\u001b[0mwarn\u001b[0m\u001b[1;33m(\u001b[0m\u001b[1;34m'Reraising captured error'\u001b[0m\u001b[1;33m)\u001b[0m\u001b[1;33m\u001b[0m\u001b[1;33m\u001b[0m\u001b[0m\n\u001b[1;32m--> 128\u001b[1;33m         \u001b[0msix\u001b[0m\u001b[1;33m.\u001b[0m\u001b[0mreraise\u001b[0m\u001b[1;33m(\u001b[0m\u001b[0mtyp\u001b[0m\u001b[1;33m,\u001b[0m \u001b[0mvalue\u001b[0m\u001b[1;33m,\u001b[0m \u001b[0mtraceback\u001b[0m\u001b[1;33m)\u001b[0m\u001b[1;33m\u001b[0m\u001b[1;33m\u001b[0m\u001b[0m\n\u001b[0m\u001b[0;32m    129\u001b[0m \u001b[1;33m\u001b[0m\u001b[0m\n\u001b[0;32m    130\u001b[0m     \u001b[1;32mfor\u001b[0m \u001b[0mk\u001b[0m\u001b[1;33m,\u001b[0m \u001b[1;33m(\u001b[0m\u001b[0mtyp\u001b[0m\u001b[1;33m,\u001b[0m \u001b[0mvalue\u001b[0m\u001b[1;33m,\u001b[0m \u001b[0mtraceback\u001b[0m\u001b[1;33m)\u001b[0m \u001b[1;32min\u001b[0m \u001b[0mkept_errors\u001b[0m\u001b[1;33m:\u001b[0m\u001b[1;33m\u001b[0m\u001b[1;33m\u001b[0m\u001b[0m\n",
      "\u001b[1;32m~\\Anaconda3\\envs\\suggestbot-demo\\lib\\site-packages\\six.py\u001b[0m in \u001b[0;36mreraise\u001b[1;34m(tp, value, tb)\u001b[0m\n\u001b[0;32m    691\u001b[0m             \u001b[1;32mif\u001b[0m \u001b[0mvalue\u001b[0m\u001b[1;33m.\u001b[0m\u001b[0m__traceback__\u001b[0m \u001b[1;32mis\u001b[0m \u001b[1;32mnot\u001b[0m \u001b[0mtb\u001b[0m\u001b[1;33m:\u001b[0m\u001b[1;33m\u001b[0m\u001b[1;33m\u001b[0m\u001b[0m\n\u001b[0;32m    692\u001b[0m                 \u001b[1;32mraise\u001b[0m \u001b[0mvalue\u001b[0m\u001b[1;33m.\u001b[0m\u001b[0mwith_traceback\u001b[0m\u001b[1;33m(\u001b[0m\u001b[0mtb\u001b[0m\u001b[1;33m)\u001b[0m\u001b[1;33m\u001b[0m\u001b[1;33m\u001b[0m\u001b[0m\n\u001b[1;32m--> 693\u001b[1;33m             \u001b[1;32mraise\u001b[0m \u001b[0mvalue\u001b[0m\u001b[1;33m\u001b[0m\u001b[1;33m\u001b[0m\u001b[0m\n\u001b[0m\u001b[0;32m    694\u001b[0m         \u001b[1;32mfinally\u001b[0m\u001b[1;33m:\u001b[0m\u001b[1;33m\u001b[0m\u001b[1;33m\u001b[0m\u001b[0m\n\u001b[0;32m    695\u001b[0m             \u001b[0mvalue\u001b[0m \u001b[1;33m=\u001b[0m \u001b[1;32mNone\u001b[0m\u001b[1;33m\u001b[0m\u001b[1;33m\u001b[0m\u001b[0m\n",
      "\u001b[1;32m~\\Anaconda3\\envs\\suggestbot-demo\\lib\\site-packages\\tensorflow\\contrib\\tpu\\python\\tpu\\tpu_estimator.py\u001b[0m in \u001b[0;36mpredict\u001b[1;34m(self, input_fn, predict_keys, hooks, checkpoint_path, yield_single_examples)\u001b[0m\n\u001b[0;32m   2492\u001b[0m           \u001b[0mhooks\u001b[0m\u001b[1;33m=\u001b[0m\u001b[0mhooks\u001b[0m\u001b[1;33m,\u001b[0m\u001b[1;33m\u001b[0m\u001b[1;33m\u001b[0m\u001b[0m\n\u001b[0;32m   2493\u001b[0m           \u001b[0mcheckpoint_path\u001b[0m\u001b[1;33m=\u001b[0m\u001b[0mcheckpoint_path\u001b[0m\u001b[1;33m,\u001b[0m\u001b[1;33m\u001b[0m\u001b[1;33m\u001b[0m\u001b[0m\n\u001b[1;32m-> 2494\u001b[1;33m           yield_single_examples=yield_single_examples):\n\u001b[0m\u001b[0;32m   2495\u001b[0m         \u001b[1;32myield\u001b[0m \u001b[0mresult\u001b[0m\u001b[1;33m\u001b[0m\u001b[1;33m\u001b[0m\u001b[0m\n\u001b[0;32m   2496\u001b[0m     \u001b[1;32mexcept\u001b[0m \u001b[0mException\u001b[0m\u001b[1;33m:\u001b[0m  \u001b[1;31m# pylint: disable=broad-except\u001b[0m\u001b[1;33m\u001b[0m\u001b[1;33m\u001b[0m\u001b[0m\n",
      "\u001b[1;32m~\\Anaconda3\\envs\\suggestbot-demo\\lib\\site-packages\\tensorflow_estimator\\python\\estimator\\estimator.py\u001b[0m in \u001b[0;36mpredict\u001b[1;34m(self, input_fn, predict_keys, hooks, checkpoint_path, yield_single_examples)\u001b[0m\n\u001b[0;32m    627\u001b[0m             hooks=all_hooks) as mon_sess:\n\u001b[0;32m    628\u001b[0m           \u001b[1;32mwhile\u001b[0m \u001b[1;32mnot\u001b[0m \u001b[0mmon_sess\u001b[0m\u001b[1;33m.\u001b[0m\u001b[0mshould_stop\u001b[0m\u001b[1;33m(\u001b[0m\u001b[1;33m)\u001b[0m\u001b[1;33m:\u001b[0m\u001b[1;33m\u001b[0m\u001b[1;33m\u001b[0m\u001b[0m\n\u001b[1;32m--> 629\u001b[1;33m             \u001b[0mpreds_evaluated\u001b[0m \u001b[1;33m=\u001b[0m \u001b[0mmon_sess\u001b[0m\u001b[1;33m.\u001b[0m\u001b[0mrun\u001b[0m\u001b[1;33m(\u001b[0m\u001b[0mpredictions\u001b[0m\u001b[1;33m)\u001b[0m\u001b[1;33m\u001b[0m\u001b[1;33m\u001b[0m\u001b[0m\n\u001b[0m\u001b[0;32m    630\u001b[0m             \u001b[1;32mif\u001b[0m \u001b[1;32mnot\u001b[0m \u001b[0myield_single_examples\u001b[0m\u001b[1;33m:\u001b[0m\u001b[1;33m\u001b[0m\u001b[1;33m\u001b[0m\u001b[0m\n\u001b[0;32m    631\u001b[0m               \u001b[1;32myield\u001b[0m \u001b[0mpreds_evaluated\u001b[0m\u001b[1;33m\u001b[0m\u001b[1;33m\u001b[0m\u001b[0m\n",
      "\u001b[1;32m~\\Anaconda3\\envs\\suggestbot-demo\\lib\\site-packages\\tensorflow\\python\\training\\monitored_session.py\u001b[0m in \u001b[0;36mrun\u001b[1;34m(self, fetches, feed_dict, options, run_metadata)\u001b[0m\n\u001b[0;32m    674\u001b[0m                           \u001b[0mfeed_dict\u001b[0m\u001b[1;33m=\u001b[0m\u001b[0mfeed_dict\u001b[0m\u001b[1;33m,\u001b[0m\u001b[1;33m\u001b[0m\u001b[1;33m\u001b[0m\u001b[0m\n\u001b[0;32m    675\u001b[0m                           \u001b[0moptions\u001b[0m\u001b[1;33m=\u001b[0m\u001b[0moptions\u001b[0m\u001b[1;33m,\u001b[0m\u001b[1;33m\u001b[0m\u001b[1;33m\u001b[0m\u001b[0m\n\u001b[1;32m--> 676\u001b[1;33m                           run_metadata=run_metadata)\n\u001b[0m\u001b[0;32m    677\u001b[0m \u001b[1;33m\u001b[0m\u001b[0m\n\u001b[0;32m    678\u001b[0m   \u001b[1;32mdef\u001b[0m \u001b[0mrun_step_fn\u001b[0m\u001b[1;33m(\u001b[0m\u001b[0mself\u001b[0m\u001b[1;33m,\u001b[0m \u001b[0mstep_fn\u001b[0m\u001b[1;33m)\u001b[0m\u001b[1;33m:\u001b[0m\u001b[1;33m\u001b[0m\u001b[1;33m\u001b[0m\u001b[0m\n",
      "\u001b[1;32m~\\Anaconda3\\envs\\suggestbot-demo\\lib\\site-packages\\tensorflow\\python\\training\\monitored_session.py\u001b[0m in \u001b[0;36mrun\u001b[1;34m(self, fetches, feed_dict, options, run_metadata)\u001b[0m\n\u001b[0;32m   1169\u001b[0m                               \u001b[0mfeed_dict\u001b[0m\u001b[1;33m=\u001b[0m\u001b[0mfeed_dict\u001b[0m\u001b[1;33m,\u001b[0m\u001b[1;33m\u001b[0m\u001b[1;33m\u001b[0m\u001b[0m\n\u001b[0;32m   1170\u001b[0m                               \u001b[0moptions\u001b[0m\u001b[1;33m=\u001b[0m\u001b[0moptions\u001b[0m\u001b[1;33m,\u001b[0m\u001b[1;33m\u001b[0m\u001b[1;33m\u001b[0m\u001b[0m\n\u001b[1;32m-> 1171\u001b[1;33m                               run_metadata=run_metadata)\n\u001b[0m\u001b[0;32m   1172\u001b[0m       \u001b[1;32mexcept\u001b[0m \u001b[0m_PREEMPTION_ERRORS\u001b[0m \u001b[1;32mas\u001b[0m \u001b[0me\u001b[0m\u001b[1;33m:\u001b[0m\u001b[1;33m\u001b[0m\u001b[1;33m\u001b[0m\u001b[0m\n\u001b[0;32m   1173\u001b[0m         logging.info('An error was raised. This may be due to a preemption in '\n",
      "\u001b[1;32m~\\Anaconda3\\envs\\suggestbot-demo\\lib\\site-packages\\tensorflow\\python\\training\\monitored_session.py\u001b[0m in \u001b[0;36mrun\u001b[1;34m(self, *args, **kwargs)\u001b[0m\n\u001b[0;32m   1268\u001b[0m         \u001b[1;32mraise\u001b[0m \u001b[0msix\u001b[0m\u001b[1;33m.\u001b[0m\u001b[0mreraise\u001b[0m\u001b[1;33m(\u001b[0m\u001b[1;33m*\u001b[0m\u001b[0moriginal_exc_info\u001b[0m\u001b[1;33m)\u001b[0m\u001b[1;33m\u001b[0m\u001b[1;33m\u001b[0m\u001b[0m\n\u001b[0;32m   1269\u001b[0m       \u001b[1;32melse\u001b[0m\u001b[1;33m:\u001b[0m\u001b[1;33m\u001b[0m\u001b[1;33m\u001b[0m\u001b[0m\n\u001b[1;32m-> 1270\u001b[1;33m         \u001b[1;32mraise\u001b[0m \u001b[0msix\u001b[0m\u001b[1;33m.\u001b[0m\u001b[0mreraise\u001b[0m\u001b[1;33m(\u001b[0m\u001b[1;33m*\u001b[0m\u001b[0moriginal_exc_info\u001b[0m\u001b[1;33m)\u001b[0m\u001b[1;33m\u001b[0m\u001b[1;33m\u001b[0m\u001b[0m\n\u001b[0m\u001b[0;32m   1271\u001b[0m \u001b[1;33m\u001b[0m\u001b[0m\n\u001b[0;32m   1272\u001b[0m \u001b[1;33m\u001b[0m\u001b[0m\n",
      "\u001b[1;32m~\\Anaconda3\\envs\\suggestbot-demo\\lib\\site-packages\\six.py\u001b[0m in \u001b[0;36mreraise\u001b[1;34m(tp, value, tb)\u001b[0m\n\u001b[0;32m    691\u001b[0m             \u001b[1;32mif\u001b[0m \u001b[0mvalue\u001b[0m\u001b[1;33m.\u001b[0m\u001b[0m__traceback__\u001b[0m \u001b[1;32mis\u001b[0m \u001b[1;32mnot\u001b[0m \u001b[0mtb\u001b[0m\u001b[1;33m:\u001b[0m\u001b[1;33m\u001b[0m\u001b[1;33m\u001b[0m\u001b[0m\n\u001b[0;32m    692\u001b[0m                 \u001b[1;32mraise\u001b[0m \u001b[0mvalue\u001b[0m\u001b[1;33m.\u001b[0m\u001b[0mwith_traceback\u001b[0m\u001b[1;33m(\u001b[0m\u001b[0mtb\u001b[0m\u001b[1;33m)\u001b[0m\u001b[1;33m\u001b[0m\u001b[1;33m\u001b[0m\u001b[0m\n\u001b[1;32m--> 693\u001b[1;33m             \u001b[1;32mraise\u001b[0m \u001b[0mvalue\u001b[0m\u001b[1;33m\u001b[0m\u001b[1;33m\u001b[0m\u001b[0m\n\u001b[0m\u001b[0;32m    694\u001b[0m         \u001b[1;32mfinally\u001b[0m\u001b[1;33m:\u001b[0m\u001b[1;33m\u001b[0m\u001b[1;33m\u001b[0m\u001b[0m\n\u001b[0;32m    695\u001b[0m             \u001b[0mvalue\u001b[0m \u001b[1;33m=\u001b[0m \u001b[1;32mNone\u001b[0m\u001b[1;33m\u001b[0m\u001b[1;33m\u001b[0m\u001b[0m\n",
      "\u001b[1;32m~\\Anaconda3\\envs\\suggestbot-demo\\lib\\site-packages\\tensorflow\\python\\training\\monitored_session.py\u001b[0m in \u001b[0;36mrun\u001b[1;34m(self, *args, **kwargs)\u001b[0m\n\u001b[0;32m   1253\u001b[0m   \u001b[1;32mdef\u001b[0m \u001b[0mrun\u001b[0m\u001b[1;33m(\u001b[0m\u001b[0mself\u001b[0m\u001b[1;33m,\u001b[0m \u001b[1;33m*\u001b[0m\u001b[0margs\u001b[0m\u001b[1;33m,\u001b[0m \u001b[1;33m**\u001b[0m\u001b[0mkwargs\u001b[0m\u001b[1;33m)\u001b[0m\u001b[1;33m:\u001b[0m\u001b[1;33m\u001b[0m\u001b[1;33m\u001b[0m\u001b[0m\n\u001b[0;32m   1254\u001b[0m     \u001b[1;32mtry\u001b[0m\u001b[1;33m:\u001b[0m\u001b[1;33m\u001b[0m\u001b[1;33m\u001b[0m\u001b[0m\n\u001b[1;32m-> 1255\u001b[1;33m       \u001b[1;32mreturn\u001b[0m \u001b[0mself\u001b[0m\u001b[1;33m.\u001b[0m\u001b[0m_sess\u001b[0m\u001b[1;33m.\u001b[0m\u001b[0mrun\u001b[0m\u001b[1;33m(\u001b[0m\u001b[1;33m*\u001b[0m\u001b[0margs\u001b[0m\u001b[1;33m,\u001b[0m \u001b[1;33m**\u001b[0m\u001b[0mkwargs\u001b[0m\u001b[1;33m)\u001b[0m\u001b[1;33m\u001b[0m\u001b[1;33m\u001b[0m\u001b[0m\n\u001b[0m\u001b[0;32m   1256\u001b[0m     \u001b[1;32mexcept\u001b[0m \u001b[0m_PREEMPTION_ERRORS\u001b[0m\u001b[1;33m:\u001b[0m\u001b[1;33m\u001b[0m\u001b[1;33m\u001b[0m\u001b[0m\n\u001b[0;32m   1257\u001b[0m       \u001b[1;32mraise\u001b[0m\u001b[1;33m\u001b[0m\u001b[1;33m\u001b[0m\u001b[0m\n",
      "\u001b[1;32m~\\Anaconda3\\envs\\suggestbot-demo\\lib\\site-packages\\tensorflow\\python\\training\\monitored_session.py\u001b[0m in \u001b[0;36mrun\u001b[1;34m(self, fetches, feed_dict, options, run_metadata)\u001b[0m\n\u001b[0;32m   1325\u001b[0m                                   \u001b[0mfeed_dict\u001b[0m\u001b[1;33m=\u001b[0m\u001b[0mfeed_dict\u001b[0m\u001b[1;33m,\u001b[0m\u001b[1;33m\u001b[0m\u001b[1;33m\u001b[0m\u001b[0m\n\u001b[0;32m   1326\u001b[0m                                   \u001b[0moptions\u001b[0m\u001b[1;33m=\u001b[0m\u001b[0moptions\u001b[0m\u001b[1;33m,\u001b[0m\u001b[1;33m\u001b[0m\u001b[1;33m\u001b[0m\u001b[0m\n\u001b[1;32m-> 1327\u001b[1;33m                                   run_metadata=run_metadata)\n\u001b[0m\u001b[0;32m   1328\u001b[0m \u001b[1;33m\u001b[0m\u001b[0m\n\u001b[0;32m   1329\u001b[0m     \u001b[1;32mfor\u001b[0m \u001b[0mhook\u001b[0m \u001b[1;32min\u001b[0m \u001b[0mself\u001b[0m\u001b[1;33m.\u001b[0m\u001b[0m_hooks\u001b[0m\u001b[1;33m:\u001b[0m\u001b[1;33m\u001b[0m\u001b[1;33m\u001b[0m\u001b[0m\n",
      "\u001b[1;32m~\\Anaconda3\\envs\\suggestbot-demo\\lib\\site-packages\\tensorflow\\python\\training\\monitored_session.py\u001b[0m in \u001b[0;36mrun\u001b[1;34m(self, *args, **kwargs)\u001b[0m\n\u001b[0;32m   1089\u001b[0m \u001b[1;33m\u001b[0m\u001b[0m\n\u001b[0;32m   1090\u001b[0m   \u001b[1;32mdef\u001b[0m \u001b[0mrun\u001b[0m\u001b[1;33m(\u001b[0m\u001b[0mself\u001b[0m\u001b[1;33m,\u001b[0m \u001b[1;33m*\u001b[0m\u001b[0margs\u001b[0m\u001b[1;33m,\u001b[0m \u001b[1;33m**\u001b[0m\u001b[0mkwargs\u001b[0m\u001b[1;33m)\u001b[0m\u001b[1;33m:\u001b[0m\u001b[1;33m\u001b[0m\u001b[1;33m\u001b[0m\u001b[0m\n\u001b[1;32m-> 1091\u001b[1;33m     \u001b[1;32mreturn\u001b[0m \u001b[0mself\u001b[0m\u001b[1;33m.\u001b[0m\u001b[0m_sess\u001b[0m\u001b[1;33m.\u001b[0m\u001b[0mrun\u001b[0m\u001b[1;33m(\u001b[0m\u001b[1;33m*\u001b[0m\u001b[0margs\u001b[0m\u001b[1;33m,\u001b[0m \u001b[1;33m**\u001b[0m\u001b[0mkwargs\u001b[0m\u001b[1;33m)\u001b[0m\u001b[1;33m\u001b[0m\u001b[1;33m\u001b[0m\u001b[0m\n\u001b[0m\u001b[0;32m   1092\u001b[0m \u001b[1;33m\u001b[0m\u001b[0m\n\u001b[0;32m   1093\u001b[0m   \u001b[1;32mdef\u001b[0m \u001b[0mrun_step_fn\u001b[0m\u001b[1;33m(\u001b[0m\u001b[0mself\u001b[0m\u001b[1;33m,\u001b[0m \u001b[0mstep_fn\u001b[0m\u001b[1;33m,\u001b[0m \u001b[0mraw_session\u001b[0m\u001b[1;33m,\u001b[0m \u001b[0mrun_with_hooks\u001b[0m\u001b[1;33m)\u001b[0m\u001b[1;33m:\u001b[0m\u001b[1;33m\u001b[0m\u001b[1;33m\u001b[0m\u001b[0m\n",
      "\u001b[1;32m~\\Anaconda3\\envs\\suggestbot-demo\\lib\\site-packages\\tensorflow\\python\\client\\session.py\u001b[0m in \u001b[0;36mrun\u001b[1;34m(self, fetches, feed_dict, options, run_metadata)\u001b[0m\n\u001b[0;32m    927\u001b[0m     \u001b[1;32mtry\u001b[0m\u001b[1;33m:\u001b[0m\u001b[1;33m\u001b[0m\u001b[1;33m\u001b[0m\u001b[0m\n\u001b[0;32m    928\u001b[0m       result = self._run(None, fetches, feed_dict, options_ptr,\n\u001b[1;32m--> 929\u001b[1;33m                          run_metadata_ptr)\n\u001b[0m\u001b[0;32m    930\u001b[0m       \u001b[1;32mif\u001b[0m \u001b[0mrun_metadata\u001b[0m\u001b[1;33m:\u001b[0m\u001b[1;33m\u001b[0m\u001b[1;33m\u001b[0m\u001b[0m\n\u001b[0;32m    931\u001b[0m         \u001b[0mproto_data\u001b[0m \u001b[1;33m=\u001b[0m \u001b[0mtf_session\u001b[0m\u001b[1;33m.\u001b[0m\u001b[0mTF_GetBuffer\u001b[0m\u001b[1;33m(\u001b[0m\u001b[0mrun_metadata_ptr\u001b[0m\u001b[1;33m)\u001b[0m\u001b[1;33m\u001b[0m\u001b[1;33m\u001b[0m\u001b[0m\n",
      "\u001b[1;32m~\\Anaconda3\\envs\\suggestbot-demo\\lib\\site-packages\\tensorflow\\python\\client\\session.py\u001b[0m in \u001b[0;36m_run\u001b[1;34m(self, handle, fetches, feed_dict, options, run_metadata)\u001b[0m\n\u001b[0;32m   1150\u001b[0m     \u001b[1;32mif\u001b[0m \u001b[0mfinal_fetches\u001b[0m \u001b[1;32mor\u001b[0m \u001b[0mfinal_targets\u001b[0m \u001b[1;32mor\u001b[0m \u001b[1;33m(\u001b[0m\u001b[0mhandle\u001b[0m \u001b[1;32mand\u001b[0m \u001b[0mfeed_dict_tensor\u001b[0m\u001b[1;33m)\u001b[0m\u001b[1;33m:\u001b[0m\u001b[1;33m\u001b[0m\u001b[1;33m\u001b[0m\u001b[0m\n\u001b[0;32m   1151\u001b[0m       results = self._do_run(handle, final_targets, final_fetches,\n\u001b[1;32m-> 1152\u001b[1;33m                              feed_dict_tensor, options, run_metadata)\n\u001b[0m\u001b[0;32m   1153\u001b[0m     \u001b[1;32melse\u001b[0m\u001b[1;33m:\u001b[0m\u001b[1;33m\u001b[0m\u001b[1;33m\u001b[0m\u001b[0m\n\u001b[0;32m   1154\u001b[0m       \u001b[0mresults\u001b[0m \u001b[1;33m=\u001b[0m \u001b[1;33m[\u001b[0m\u001b[1;33m]\u001b[0m\u001b[1;33m\u001b[0m\u001b[1;33m\u001b[0m\u001b[0m\n",
      "\u001b[1;32m~\\Anaconda3\\envs\\suggestbot-demo\\lib\\site-packages\\tensorflow\\python\\client\\session.py\u001b[0m in \u001b[0;36m_do_run\u001b[1;34m(self, handle, target_list, fetch_list, feed_dict, options, run_metadata)\u001b[0m\n\u001b[0;32m   1326\u001b[0m     \u001b[1;32mif\u001b[0m \u001b[0mhandle\u001b[0m \u001b[1;32mis\u001b[0m \u001b[1;32mNone\u001b[0m\u001b[1;33m:\u001b[0m\u001b[1;33m\u001b[0m\u001b[1;33m\u001b[0m\u001b[0m\n\u001b[0;32m   1327\u001b[0m       return self._do_call(_run_fn, feeds, fetches, targets, options,\n\u001b[1;32m-> 1328\u001b[1;33m                            run_metadata)\n\u001b[0m\u001b[0;32m   1329\u001b[0m     \u001b[1;32melse\u001b[0m\u001b[1;33m:\u001b[0m\u001b[1;33m\u001b[0m\u001b[1;33m\u001b[0m\u001b[0m\n\u001b[0;32m   1330\u001b[0m       \u001b[1;32mreturn\u001b[0m \u001b[0mself\u001b[0m\u001b[1;33m.\u001b[0m\u001b[0m_do_call\u001b[0m\u001b[1;33m(\u001b[0m\u001b[0m_prun_fn\u001b[0m\u001b[1;33m,\u001b[0m \u001b[0mhandle\u001b[0m\u001b[1;33m,\u001b[0m \u001b[0mfeeds\u001b[0m\u001b[1;33m,\u001b[0m \u001b[0mfetches\u001b[0m\u001b[1;33m)\u001b[0m\u001b[1;33m\u001b[0m\u001b[1;33m\u001b[0m\u001b[0m\n",
      "\u001b[1;32m~\\Anaconda3\\envs\\suggestbot-demo\\lib\\site-packages\\tensorflow\\python\\client\\session.py\u001b[0m in \u001b[0;36m_do_call\u001b[1;34m(self, fn, *args)\u001b[0m\n\u001b[0;32m   1346\u001b[0m           \u001b[1;32mpass\u001b[0m\u001b[1;33m\u001b[0m\u001b[1;33m\u001b[0m\u001b[0m\n\u001b[0;32m   1347\u001b[0m       \u001b[0mmessage\u001b[0m \u001b[1;33m=\u001b[0m \u001b[0merror_interpolation\u001b[0m\u001b[1;33m.\u001b[0m\u001b[0minterpolate\u001b[0m\u001b[1;33m(\u001b[0m\u001b[0mmessage\u001b[0m\u001b[1;33m,\u001b[0m \u001b[0mself\u001b[0m\u001b[1;33m.\u001b[0m\u001b[0m_graph\u001b[0m\u001b[1;33m)\u001b[0m\u001b[1;33m\u001b[0m\u001b[1;33m\u001b[0m\u001b[0m\n\u001b[1;32m-> 1348\u001b[1;33m       \u001b[1;32mraise\u001b[0m \u001b[0mtype\u001b[0m\u001b[1;33m(\u001b[0m\u001b[0me\u001b[0m\u001b[1;33m)\u001b[0m\u001b[1;33m(\u001b[0m\u001b[0mnode_def\u001b[0m\u001b[1;33m,\u001b[0m \u001b[0mop\u001b[0m\u001b[1;33m,\u001b[0m \u001b[0mmessage\u001b[0m\u001b[1;33m)\u001b[0m\u001b[1;33m\u001b[0m\u001b[1;33m\u001b[0m\u001b[0m\n\u001b[0m\u001b[0;32m   1349\u001b[0m \u001b[1;33m\u001b[0m\u001b[0m\n\u001b[0;32m   1350\u001b[0m   \u001b[1;32mdef\u001b[0m \u001b[0m_extend_graph\u001b[0m\u001b[1;33m(\u001b[0m\u001b[0mself\u001b[0m\u001b[1;33m)\u001b[0m\u001b[1;33m:\u001b[0m\u001b[1;33m\u001b[0m\u001b[1;33m\u001b[0m\u001b[0m\n",
      "\u001b[1;31mInternalError\u001b[0m: Blas GEMM launch failed : a.shape=(1024, 2), b.shape=(2, 768), m=1024, n=768, k=2\n\t [[node bert/embeddings/MatMul (defined at C:\\Users\\Doyeon\\Desktop\\KAIST\\IR&NLP\\SuggestBot\\suggestbot_demo\\suggestbot-demo\\helper\\modeling.py:487) ]]\n\t [[node loss/Softmax (defined at C:\\Users\\Doyeon\\Desktop\\KAIST\\IR&NLP\\SuggestBot\\suggestbot_demo\\suggestbot-demo\\helper\\sentence_selector.py:288) ]]\n\nCaused by op 'bert/embeddings/MatMul', defined at:\n  File \"C:\\Users\\Doyeon\\Anaconda3\\envs\\suggestbot-demo\\lib\\runpy.py\", line 193, in _run_module_as_main\n    \"__main__\", mod_spec)\n  File \"C:\\Users\\Doyeon\\Anaconda3\\envs\\suggestbot-demo\\lib\\runpy.py\", line 85, in _run_code\n    exec(code, run_globals)\n  File \"C:\\Users\\Doyeon\\Anaconda3\\envs\\suggestbot-demo\\lib\\site-packages\\ipykernel_launcher.py\", line 16, in <module>\n    app.launch_new_instance()\n  File \"C:\\Users\\Doyeon\\Anaconda3\\envs\\suggestbot-demo\\lib\\site-packages\\traitlets\\config\\application.py\", line 658, in launch_instance\n    app.start()\n  File \"C:\\Users\\Doyeon\\Anaconda3\\envs\\suggestbot-demo\\lib\\site-packages\\ipykernel\\kernelapp.py\", line 505, in start\n    self.io_loop.start()\n  File \"C:\\Users\\Doyeon\\Anaconda3\\envs\\suggestbot-demo\\lib\\site-packages\\tornado\\platform\\asyncio.py\", line 148, in start\n    self.asyncio_loop.run_forever()\n  File \"C:\\Users\\Doyeon\\Anaconda3\\envs\\suggestbot-demo\\lib\\asyncio\\base_events.py\", line 539, in run_forever\n    self._run_once()\n  File \"C:\\Users\\Doyeon\\Anaconda3\\envs\\suggestbot-demo\\lib\\asyncio\\base_events.py\", line 1775, in _run_once\n    handle._run()\n  File \"C:\\Users\\Doyeon\\Anaconda3\\envs\\suggestbot-demo\\lib\\asyncio\\events.py\", line 88, in _run\n    self._context.run(self._callback, *self._args)\n  File \"C:\\Users\\Doyeon\\Anaconda3\\envs\\suggestbot-demo\\lib\\site-packages\\tornado\\ioloop.py\", line 690, in <lambda>\n    lambda f: self._run_callback(functools.partial(callback, future))\n  File \"C:\\Users\\Doyeon\\Anaconda3\\envs\\suggestbot-demo\\lib\\site-packages\\tornado\\ioloop.py\", line 743, in _run_callback\n    ret = callback()\n  File \"C:\\Users\\Doyeon\\Anaconda3\\envs\\suggestbot-demo\\lib\\site-packages\\tornado\\gen.py\", line 781, in inner\n    self.run()\n  File \"C:\\Users\\Doyeon\\Anaconda3\\envs\\suggestbot-demo\\lib\\site-packages\\tornado\\gen.py\", line 742, in run\n    yielded = self.gen.send(value)\n  File \"C:\\Users\\Doyeon\\Anaconda3\\envs\\suggestbot-demo\\lib\\site-packages\\ipykernel\\kernelbase.py\", line 357, in process_one\n    yield gen.maybe_future(dispatch(*args))\n  File \"C:\\Users\\Doyeon\\Anaconda3\\envs\\suggestbot-demo\\lib\\site-packages\\tornado\\gen.py\", line 209, in wrapper\n    yielded = next(result)\n  File \"C:\\Users\\Doyeon\\Anaconda3\\envs\\suggestbot-demo\\lib\\site-packages\\ipykernel\\kernelbase.py\", line 267, in dispatch_shell\n    yield gen.maybe_future(handler(stream, idents, msg))\n  File \"C:\\Users\\Doyeon\\Anaconda3\\envs\\suggestbot-demo\\lib\\site-packages\\tornado\\gen.py\", line 209, in wrapper\n    yielded = next(result)\n  File \"C:\\Users\\Doyeon\\Anaconda3\\envs\\suggestbot-demo\\lib\\site-packages\\ipykernel\\kernelbase.py\", line 534, in execute_request\n    user_expressions, allow_stdin,\n  File \"C:\\Users\\Doyeon\\Anaconda3\\envs\\suggestbot-demo\\lib\\site-packages\\tornado\\gen.py\", line 209, in wrapper\n    yielded = next(result)\n  File \"C:\\Users\\Doyeon\\Anaconda3\\envs\\suggestbot-demo\\lib\\site-packages\\ipykernel\\ipkernel.py\", line 294, in do_execute\n    res = shell.run_cell(code, store_history=store_history, silent=silent)\n  File \"C:\\Users\\Doyeon\\Anaconda3\\envs\\suggestbot-demo\\lib\\site-packages\\ipykernel\\zmqshell.py\", line 536, in run_cell\n    return super(ZMQInteractiveShell, self).run_cell(*args, **kwargs)\n  File \"C:\\Users\\Doyeon\\Anaconda3\\envs\\suggestbot-demo\\lib\\site-packages\\IPython\\core\\interactiveshell.py\", line 2848, in run_cell\n    raw_cell, store_history, silent, shell_futures)\n  File \"C:\\Users\\Doyeon\\Anaconda3\\envs\\suggestbot-demo\\lib\\site-packages\\IPython\\core\\interactiveshell.py\", line 2874, in _run_cell\n    return runner(coro)\n  File \"C:\\Users\\Doyeon\\Anaconda3\\envs\\suggestbot-demo\\lib\\site-packages\\IPython\\core\\async_helpers.py\", line 67, in _pseudo_sync_runner\n    coro.send(None)\n  File \"C:\\Users\\Doyeon\\Anaconda3\\envs\\suggestbot-demo\\lib\\site-packages\\IPython\\core\\interactiveshell.py\", line 3049, in run_cell_async\n    interactivity=interactivity, compiler=compiler, result=result)\n  File \"C:\\Users\\Doyeon\\Anaconda3\\envs\\suggestbot-demo\\lib\\site-packages\\IPython\\core\\interactiveshell.py\", line 3214, in run_ast_nodes\n    if (yield from self.run_code(code, result)):\n  File \"C:\\Users\\Doyeon\\Anaconda3\\envs\\suggestbot-demo\\lib\\site-packages\\IPython\\core\\interactiveshell.py\", line 3296, in run_code\n    exec(code_obj, self.user_global_ns, self.user_ns)\n  File \"<ipython-input-6-a4063d042eeb>\", line 47, in <module>\n    claim, ranked_evidences = sentence_selector.get_evidences(claim, candidates, k=10)\n  File \"C:\\Users\\Doyeon\\Desktop\\KAIST\\IR&NLP\\SuggestBot\\suggestbot_demo\\suggestbot-demo\\helper\\sentence_selector.py\", line 398, in get_evidences\n    for prediction, instance in zip(result, predict_examples):\n  File \"C:\\Users\\Doyeon\\Anaconda3\\envs\\suggestbot-demo\\lib\\site-packages\\tensorflow\\contrib\\tpu\\python\\tpu\\tpu_estimator.py\", line 2494, in predict\n    yield_single_examples=yield_single_examples):\n  File \"C:\\Users\\Doyeon\\Anaconda3\\envs\\suggestbot-demo\\lib\\site-packages\\tensorflow_estimator\\python\\estimator\\estimator.py\", line 611, in predict\n    features, None, model_fn_lib.ModeKeys.PREDICT, self.config)\n  File \"C:\\Users\\Doyeon\\Anaconda3\\envs\\suggestbot-demo\\lib\\site-packages\\tensorflow\\contrib\\tpu\\python\\tpu\\tpu_estimator.py\", line 2251, in _call_model_fn\n    config)\n  File \"C:\\Users\\Doyeon\\Anaconda3\\envs\\suggestbot-demo\\lib\\site-packages\\tensorflow_estimator\\python\\estimator\\estimator.py\", line 1112, in _call_model_fn\n    model_fn_results = self._model_fn(features=features, **kwargs)\n  File \"C:\\Users\\Doyeon\\Anaconda3\\envs\\suggestbot-demo\\lib\\site-packages\\tensorflow\\contrib\\tpu\\python\\tpu\\tpu_estimator.py\", line 2534, in _model_fn\n    features, labels, is_export_mode=is_export_mode)\n  File \"C:\\Users\\Doyeon\\Anaconda3\\envs\\suggestbot-demo\\lib\\site-packages\\tensorflow\\contrib\\tpu\\python\\tpu\\tpu_estimator.py\", line 1323, in call_without_tpu\n    return self._call_model_fn(features, labels, is_export_mode=is_export_mode)\n  File \"C:\\Users\\Doyeon\\Anaconda3\\envs\\suggestbot-demo\\lib\\site-packages\\tensorflow\\contrib\\tpu\\python\\tpu\\tpu_estimator.py\", line 1593, in _call_model_fn\n    estimator_spec = self._model_fn(features=features, **kwargs)\n  File \"C:\\Users\\Doyeon\\Desktop\\KAIST\\IR&NLP\\SuggestBot\\suggestbot_demo\\suggestbot-demo\\helper\\sentence_selector.py\", line 318, in model_fn\n    num_labels, False)\n  File \"C:\\Users\\Doyeon\\Desktop\\KAIST\\IR&NLP\\SuggestBot\\suggestbot_demo\\suggestbot-demo\\helper\\sentence_selector.py\", line 263, in create_model\n    use_one_hot_embeddings=use_one_hot_embeddings)\n  File \"C:\\Users\\Doyeon\\Desktop\\KAIST\\IR&NLP\\SuggestBot\\suggestbot_demo\\suggestbot-demo\\helper\\modeling.py\", line 195, in __init__\n    dropout_prob=config.hidden_dropout_prob)\n  File \"C:\\Users\\Doyeon\\Desktop\\KAIST\\IR&NLP\\SuggestBot\\suggestbot_demo\\suggestbot-demo\\helper\\modeling.py\", line 487, in embedding_postprocessor\n    token_type_embeddings = tf.matmul(one_hot_ids, token_type_table)\n  File \"C:\\Users\\Doyeon\\Anaconda3\\envs\\suggestbot-demo\\lib\\site-packages\\tensorflow\\python\\ops\\math_ops.py\", line 2455, in matmul\n    a, b, transpose_a=transpose_a, transpose_b=transpose_b, name=name)\n  File \"C:\\Users\\Doyeon\\Anaconda3\\envs\\suggestbot-demo\\lib\\site-packages\\tensorflow\\python\\ops\\gen_math_ops.py\", line 5333, in mat_mul\n    name=name)\n  File \"C:\\Users\\Doyeon\\Anaconda3\\envs\\suggestbot-demo\\lib\\site-packages\\tensorflow\\python\\framework\\op_def_library.py\", line 788, in _apply_op_helper\n    op_def=op_def)\n  File \"C:\\Users\\Doyeon\\Anaconda3\\envs\\suggestbot-demo\\lib\\site-packages\\tensorflow\\python\\util\\deprecation.py\", line 507, in new_func\n    return func(*args, **kwargs)\n  File \"C:\\Users\\Doyeon\\Anaconda3\\envs\\suggestbot-demo\\lib\\site-packages\\tensorflow\\python\\framework\\ops.py\", line 3300, in create_op\n    op_def=op_def)\n  File \"C:\\Users\\Doyeon\\Anaconda3\\envs\\suggestbot-demo\\lib\\site-packages\\tensorflow\\python\\framework\\ops.py\", line 1801, in __init__\n    self._traceback = tf_stack.extract_stack()\n\nInternalError (see above for traceback): Blas GEMM launch failed : a.shape=(1024, 2), b.shape=(2, 768), m=1024, n=768, k=2\n\t [[node bert/embeddings/MatMul (defined at C:\\Users\\Doyeon\\Desktop\\KAIST\\IR&NLP\\SuggestBot\\suggestbot_demo\\suggestbot-demo\\helper\\modeling.py:487) ]]\n\t [[node loss/Softmax (defined at C:\\Users\\Doyeon\\Desktop\\KAIST\\IR&NLP\\SuggestBot\\suggestbot_demo\\suggestbot-demo\\helper\\sentence_selector.py:288) ]]\n"
     ]
    }
   ],
   "source": [
    "if __name__ == '__main__':\n",
    "    \n",
    "    doccandy = ['kix']\n",
    "    traincandy = ['kialo']\n",
    "    kcandy = [5,10]\n",
    "    \n",
    "    cname = \"\"\n",
    "    for doc in doccandy:\n",
    "        for dock in kcandy:\n",
    "            for trainm in traincandy:\n",
    "                for mode in [1]:\n",
    "                    if mode == 1: cname = 'gihyuk'\n",
    "                    elif mode == 2: cname = 'kix'\n",
    "                    elif mode == 3: cname = 'total'\n",
    "                    \n",
    "                    filename = \"[{}({},WMD(30))-{}]{} claim_filter\".format(doc,dock,trainm,cname)\n",
    "                    print(filename)\n",
    "                    f = open(filename+\".txt\",\"w\")\n",
    "                    HOST = 'localhost'\n",
    "                    PORT = 9200\n",
    "\n",
    "                    INDEX = setting(doc)\n",
    "                    #INDEX = 'kixx' # Use hand-annotated documents (small - 46 docs)\n",
    "                    #INDEX = 'news-please' # Use crawled documents (big - 10,000,000)\n",
    "                    FIELDS = ['title', 'text']\n",
    "\n",
    "                    # Initialize modules\n",
    "                    sentence_retriever = SentenceRetriever(\n",
    "                        hosts=HOST, port=PORT, index=INDEX, fields=FIELDS)\n",
    "                    if trainm == 'kialo': sentence_selector = SentenceSelectorKialo()\n",
    "                    elif trainm == 'IBM': sentence_selector = SentenceSelectorIBM()\n",
    "                    stance_classifier = StanceClassifier()\n",
    "\n",
    "                    ## gihyuk - 1, kix - 2, total - 3\n",
    "                    claims = get_claim_list(mode)\n",
    "\n",
    "                    # sample claim\n",
    "                    for claim in claims:\n",
    "                        f.write(\"====================\\n\")\n",
    "                        f.write(\"claim: %s\\n\" % (claim))\n",
    "                        #print('Get evidence candidates for the claim: \"{}\"'.format(claim))\n",
    "                        candidates = get_candidates(claim, doc_k=dock, sent_k=30)\n",
    "\n",
    "                        # Print evidences with stances\n",
    "                        #print('Evidences with stances: ')\n",
    "                        # 1. Select evidence sentences\n",
    "                        claim, ranked_evidences = sentence_selector.get_evidences(claim, candidates, k=10)\n",
    "                        #pprint(ranked_evidences)\n",
    "                        \n",
    "                        f.write(\"Evidence: \\n\")\n",
    "                        # 2. Classify stances for the selected evidences\n",
    "                        evidences = [ev for ev, _ in ranked_evidences] # classify stances for evidences only\n",
    "                        claim, evidence_stances = stance_classifier.get_evidence_stance(claim, evidences)\n",
    "                        for sentence in evidence_stances:\n",
    "                            f.write(sentence[0]+\"\\t\"+sentence[1]+\"\\n\")\n",
    "                    f.close()\n",
    "                    \n",
    "                    del sentence_selector\n",
    "                    del stance_classifier\n",
    "                    del sentence_retriever\n",
    "                    del claims"
   ]
  },
  {
   "cell_type": "code",
   "execution_count": null,
   "metadata": {},
   "outputs": [],
   "source": []
  },
  {
   "cell_type": "code",
   "execution_count": null,
   "metadata": {},
   "outputs": [],
   "source": []
  }
 ],
 "metadata": {
  "kernelspec": {
   "display_name": "Python [conda env:suggestbot-demo]",
   "language": "python",
   "name": "conda-env-suggestbot-demo-py"
  },
  "language_info": {
   "codemirror_mode": {
    "name": "ipython",
    "version": 3
   },
   "file_extension": ".py",
   "mimetype": "text/x-python",
   "name": "python",
   "nbconvert_exporter": "python",
   "pygments_lexer": "ipython3",
   "version": "3.7.3"
  }
 },
 "nbformat": 4,
 "nbformat_minor": 2
}
