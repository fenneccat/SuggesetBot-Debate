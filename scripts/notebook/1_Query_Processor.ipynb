{
 "cells": [
  {
   "cell_type": "code",
   "execution_count": 3,
   "metadata": {},
   "outputs": [],
   "source": [
    "from lib import DocumentRetriever"
   ]
  },
  {
   "cell_type": "markdown",
   "metadata": {},
   "source": [
    "# 1. Retrieve Documents"
   ]
  },
  {
   "cell_type": "markdown",
   "metadata": {},
   "source": [
    "## Init Retriever"
   ]
  },
  {
   "cell_type": "code",
   "execution_count": 33,
   "metadata": {},
   "outputs": [],
   "source": [
    "doc_retriever = DocumentRetriever('tfidf_2019-03-18T15-53-19')"
   ]
  },
  {
   "cell_type": "markdown",
   "metadata": {},
   "source": [
    "## Search"
   ]
  },
  {
   "cell_type": "code",
   "execution_count": 34,
   "metadata": {
    "scrolled": true
   },
   "outputs": [
    {
     "name": "stdout",
     "output_type": "stream",
     "text": [
      "Text: Now, the Syria war shows few signs of ending and the refugees desperately need help.\n",
      "Query: ['Syria', 'refugees', 'ending', 'signs', 'war', 'shows', 'Syria', 'refugee']\n",
      "['Refugees from civil war in Syria top 3 million, UN says', 'Refugees from war-torn Syria are no longer welcome in Lebanon', \"In Istanbul's 'Little Syria,' refugees want more from US\", 'In Jordan camp, Syrian refugees prepare for long exile', \"Syrian refugees see glimmer of hope in Trump's policy shift\", 'Syria war: Would you invite a refugee to live with you?', 'Syrian refugee crisis: Facts, FAQs, and how to help', 'Syrian refugee crisis: Facts, FAQs, and how to help', 'Stars headed to Jordan to meet with Syrian refugees', 'Syrian refugee crisis: Facts, FAQs, and how to help']\n",
      "\n",
      "Text: Resettlement is needed now, because an organized, legal route to hope in the U.S., as well as in Canada and Australia, will disempower the smugglers who are currently charging 1,200 euros for desperate people to get the six kilometers from Turkey to Greece.\n",
      "Query: ['Greece', 'disempower', 'Turkey', 'Canada', 'Resettlement', 'Australia', 'smugglers', 'Syria', 'refugee']\n",
      "['Smuggling surges in Greece as refugee frustrations grow', \"Refugee children resorting to 'survival sex'\", 'Smuggling surges in Greece as migrant frustrations grow', 'Migrant crisis: UN says 5,000 drown trying to reach Europe this year', 'White House considering ‘resettlement,’ other options for refugee crisis', 'Greece sees rise in refugee, migrant arrivals in September', 'Syria refugee quotas offered by 17 countries: UNHCR', 'AP Explains: Why is Australia-US refugee deal contentious', 'People-Smugglers Are Jeopardizing Global Aid for Refugees', 'Bodies of drowned boys return to Syrian hometown for burial']\n",
      "\n",
      "Text: But resettlement of 100,000 refugees is important and for goodness sake, if Australia can take 18,000, if Canada can take 25,000, if France can take 35,000, then the United States, 10 times the size of Canada, can take 100,000 refugees.\n",
      "Query: ['Canada', 'refugees', 'Australia', 'France', 'resettlement', 'goodness', 'sake', 'Syria', 'refugee']\n",
      "['Syria refugee quotas offered by 17 countries: UNHCR', 'Australia close to resettling 12,000 Syrian refugees', 'White House considering ‘resettlement,’ other options for refugee crisis', 'Lawmaker leads effort to give states a say in Syria refugee resettlement', 'AP Explains: Why is Australia-US refugee deal contentious', 'Australian refugee advocates say 40 refugees bound for US', 'People-Smugglers Are Jeopardizing Global Aid for Refugees', 'First Australia refugees approved for US resettlement', \"How are Australia's Syrian refugees coping?\", 'Refugee resettlement agencies brace for funding loss']\n",
      "\n",
      "Text: We are talking about what is to be done with the very, very large numbers of Syrian refugees who do not have prior connections to the West, who are not who have no family, who are not connected to people here, and who lack the aptitudes and skills that would normally qualify them for the usual immigration processes.\n",
      "Query: ['aptitudes', 'West', 'processes', 'connections', 'qualify', 'refugees', 'skills', 'Syrian', 'connected', 'immigration', 'Syria', 'refugee']\n",
      "['Rubio says that jihadists are using refugee crisis as cover to send terrorists to the West', \"Syrian refugees see glimmer of hope in Trump's policy shift\", 'Experts say governors in US states lack legal authority to stop accepting Syrian refugees', 'Syrian refugee crisis: Facts, FAQs, and how to help', 'Syrian refugee crisis: Facts, FAQs, and how to help', 'Syrian refugee crisis: Facts, FAQs, and how to help', 'Trump calls for surveillance of some mosques, attempts to clarify remarks on Syrian database', \"How are Australia's Syrian refugees coping?\", 'Syrian refugee crisis: Facts, FAQs, and how to help', 'Lebanese military rejects claims of abusing Syrian refugees']\n",
      "\n",
      "Text: We've when you hear these stories of actual terrorists who came in as actual refugees, and then we hear the president and his allies, who are pushing for this 100,000 Syrian refugees to be admitted and talk about the 18 to 24 month vetting period, which is really, you know, more of a waiting period than no one spends 18 to 24 months investigating refugees.\n",
      "Query: ['refugees', 'period', 'hear', 'vetting', 'spends', 'Syria', 'refugee']\n",
      "['Obama administration assures governors that Syrian refugees undergo rigorous security vetting', 'US refugees: Stricter screening as 120-day ban expires', 'Refugee admissions lowest in recent years thanks to Trump immigration crackdown', 'CIA head says half of Syrian population displaced, House seeks stronger refugee vetting', 'Obama threatens to veto House GOP bill on Syrian refugee screening', \"Trump's refugee ban ends as executive order toughens vetting for 11 countries\", 'Trump to announce new refugee admissions cap, stronger vetting rules as ban expires', \"Trump signs executive order for 'extreme vetting' of refugees\", 'Iraqi terror suspects latest examples of flawed refugee vetting system, say critics', 'Gutfeld: Vetting hysteria vs. facts']\n",
      "\n",
      "Text: So, a couple of points I'd make. Number one. Yes, your government's job is to protect your security, job one. Believe me, people in the United States government do know that.\n",
      "Query: ['Believe', 'job', 'Number', 'government', 'protect', 'couple', 'security', 'points', 'States', 'Syria', 'refugee']\n",
      "['Lawmaker leads effort to give states a say in Syria refugee resettlement', 'Obama administration assures governors that Syrian refugees undergo rigorous security vetting', 'Syrian refugees surge into US; Obama on track to hit target amid security concerns', 'White House considering ‘resettlement,’ other options for refugee crisis', 'Draft order would halt refugee processing for Syrians', 'Your Syria Questions, Answered', 'US hits 50,000 refugee limit, but some will still trickle in', 'Refugee admissions lowest in recent years thanks to Trump immigration crackdown', 'Federal judges express skepticism about Trump travel ban', 'Trump draft order reportedly will halt refugee processing for Syrians']\n",
      "\n",
      "Text: Number two. The question is how best to guarantee American security. Is it to have a coordinated policy or to have different hands working at cross purposes? Number three, no one in the United States government ever allows the United Nations to decide who comes in to the United States.\n",
      "Query: ['Number', 'United', 'coordinated', 'States', 'guarantee', 'purposes', 'cross', 'allows', 'Syria', 'refugee']\n",
      "['Syria refugee quotas offered by 17 countries: UNHCR', 'Lawmaker leads effort to give states a say in Syria refugee resettlement', 'White House considering ‘resettlement,’ other options for refugee crisis', 'The Latest: ICRC says badly ill removed from suburb in Syria', 'World leaders at UN approve plan for refugee crisis', 'UN says deportations of Syrians from Jordan have dropped', 'Things to know: Refugee processing and background checks for Syrian refugees head to the US', 'Draft order would halt refugee processing for Syrians', \"Trump's refugee ban ends as executive order toughens vetting for 11 countries\", '100,000 refugees fled Syria in August, UN says']\n",
      "\n",
      "Text: In the past decade, about 50 Somali Americans have traveled to Somalia to fight for Al Shabaab, a terror organization.\n",
      "Query: ['Somalia', 'Shabaab', 'Somali', 'traveled', 'decade', 'terror', 'organization', 'Al', 'Syria', 'refugee']\n",
      "['US drone strikes in Somalia target al-Shabaab fighters', \"British 'White Widow' rises in Al-Shabaab, reportedly had role in 400 murders\", 'Trump OKs ramped-up airstrikes against al-Shabaab in Somalia', 'US, Somali forces raid rebel-held village, killing several al-Shabaab fighters, official says', 'Al Shabaab commander killed in US airstrike in Somalia', 'US airstrike in Somalia kills 5 Al-Shabaab fighters', 'US confirms death of al-Shabaab terrorist Ali Jabal', 'Al-Shabaab wapata pigo Somalia', 'Chilling Al-Shabaab execution video takes page from ISIS', 'Mshukiwa wa Al shabaab akamatwa Kenya']\n",
      "\n",
      "Text: About 10 Somali Americans in the past two years have been charged with plotting to assist ISIS.\n",
      "Query: ['Somali', 'Americans', 'plotting', 'assist', 'ISIS', 'Syria', 'refugee']\n",
      "['Trump accuses US-based Somalis of spreading extremism', '300 refugees subjects of FBI terror investigations, U.S. officials say', 'Three Minnesota men sentenced for conspiring to join ISIS', 'The Latest: Man accused in Kansas bomb plot blames others', 'Dutch court convicts 22-year-old of terror offense for plotting robbery to fund Jihad in Syria', 'Man accused of plotting to join Islamic State takes stand', \"ISIS' message still finding US audience, lawmaker warns\", 'ISIS operative linked to Istanbul bombing has been killed, Pentagon says', 'ISIS has three surface-to-air missile launchers in Syria, US officials say', 'Pentagon says Syria strike killed ISIS couple who plotted attacks against US']\n",
      "\n"
     ]
    },
    {
     "name": "stdout",
     "output_type": "stream",
     "text": [
      "Text: And one of the ideas that is important to keep in mind is that the problems of admitting a mismatched population tend to show up in the second generation, not the first.\n",
      "Query: ['admitting', 'generation', 'tend', 'ideas', 'population', 'mind', 'problems', 'Syria', 'refugee']\n",
      "['UN, Nordic groups meet at Finland humanitarian aid to Syria', 'UN reports Palestinian population decline in Syria', 'Why Are Half of Syrian Refugee Children Out of School?', 'Syria refugee quotas offered by 17 countries: UNHCR', '8 reasons why the Syrian refugee crisis still matters after 8 years', 'Fighting displaces 70-80% of Palestinians in Syria: UN', 'UN says 65 million people displaced in 2015, a new record', 'CIA head says half of Syrian population displaced, House seeks stronger refugee vetting', 'Donate to Feed a Refugee Child for a Week', 'Donate to Feed a Refugee Child for a Week']\n",
      "\n",
      "Text: Sure. Well, while we all worked for our respective State Departments, obviously, my esteemed opponents over there never worked behind a visa window, because people just lie to you all day long down there.\n",
      "Query: ['Departments', 'worked', 'State', 'visa', 'lie', 'window', 'opponents', 'Syria', 'refugee']\n",
      "['Draft order would halt refugee processing for Syrians', 'The Latest: Trump travel ban takes effect Thursday', 'Travel ban takes effect but less chaos expected', 'Your Syria Questions, Answered', 'House tightens controls on visa-free travel to U.S., adds restrictions to Iraqi and Syrian citizens', 'Ask Your Syria Questions', 'Trump orders strict new refugee screening, citing terrorists', \"Trump signs executive order for 'extreme vetting' of refugees\", \"More court challenges expected for Trump's new travel ban\", 'U.S. expands visa program for Iraqi allies']\n",
      "\n",
      "Text: It's all about perception. It's Hollywood in an Islamic jihadi kind of way, and they play on that. It has nothing to do with facts.\n",
      "Query: ['Hollywood', 'jihadi', 'perception', 'facts', 'Islamic', 'Syria', 'refugee']\n",
      "['Mom of French jihadi gets 2-year sentence for money transfer', 'Jordan widens IS crackdown; signs of home-grown extremism', 'Would-be jihadi jailed by Dutch tried to reach Syria twice', 'EU envoy: Europe still not stopping flow of jihadi recruits to Islamic militant groups', 'After French anti-terror raid, 5 may face preliminary charges over jihadi network', \"Al-Qaida shuns militant group blamed for bloody infighting among Syria's Islamic factions\", 'Paraguayan among 11 people arrested in Spain for suspected links to jihadi group', 'Pakistan says it busts Islamic State cell linked to Syria', 'France seeks ways to boost anti-jihadi force in Africa', \"'Jihadi Jack' parents to stand trial on suspicion of funding terrorism\"]\n",
      "\n",
      "Text: Look, clearly ISIS is not having any trouble recruiting with or without Donald Trump.\n",
      "Query: ['recruiting', 'ISIS', 'Look', 'trouble', 'Donald', 'Trump', 'having', 'Syria', 'refugee']\n",
      "['Trump is more dangerous than ISIS, some Harvard students claim', 'Pence denies rift with Trump over Syria policy', \"Donald Trump says he'd send back Syrian refugees taken in by the US\", 'Clinton claim on ISIS using Trump videos to recruit panned by fact-checkers', 'Syria missile attack sparks tremors on Trump train', 'Pentagon chief presented counter-ISIS plan to White House', \"Trump: Syria refugees could be the 'ultimate Trojan horse'\", 'ISIS sympathizers question motives behind Syria air strike', 'Trump to order Pentagon to hit ISIS harder, report says', 'Syrian chemical attack survivor praises Trump for missile strikes']\n",
      "\n",
      "Text: They hate us, as some clever writer recently said, not because of what we do, because of who we are.\n",
      "Query: ['writer', 'hate', 'Syria', 'refugee']\n",
      "['Your Syria Questions, Answered', 'Syria war: Would you invite a refugee to live with you?', 'Syria refugee quotas offered by 17 countries: UNHCR', 'Syria refugee crisis: What would you take?', 'Why Are Half of Syrian Refugee Children Out of School?', 'Syrian refugee crisis: Facts, FAQs, and how to help', 'Fleeing Home: A Refugee Story', 'Syrian refugee crisis: Facts, FAQs, and how to help', 'Syrian refugee crisis: Facts, FAQs, and how to help', 'Trump allows refugee admissions to resume with new screening']\n",
      "\n",
      "Text: And they're not going to be any nicer to us if we accept even 500,000 refugees from Syria. That’s just a fact.\n",
      "Query: ['Syria', 'refugees', 'accept', 'fact', 'Syria', 'refugee']\n",
      "['Refugees from war-torn Syria are no longer welcome in Lebanon', \"Sen. Ted Cruz: Allowing Syrian refugees into U.S. is 'nothing short of crazy'\", 'Syria refugee quotas offered by 17 countries: UNHCR', 'Lebanon: Syrian refugees hesitant to return despite opening', 'Fighting displaces 70-80% of Palestinians in Syria: UN', 'Refugees from civil war in Syria top 3 million, UN says', 'Rubio says that jihadists are using refugee crisis as cover to send terrorists to the West', \"Syrian refugees see glimmer of hope in Trump's policy shift\", \"It's not un-Christian to worry about refugees in US, religious freedom advocate says\", 'Syria war: Would you invite a refugee to live with you?']\n",
      "\n"
     ]
    }
   ],
   "source": [
    "with open('./data/queries_full.txt', encoding='utf-8-sig') as fin:\n",
    "    texts = [line.strip() for line in fin]\n",
    "    for text in texts:\n",
    "        results = doc_retriever.search(text)"
   ]
  },
  {
   "cell_type": "code",
   "execution_count": null,
   "metadata": {},
   "outputs": [],
   "source": []
  }
 ],
 "metadata": {
  "kernelspec": {
   "display_name": "Python 3",
   "language": "python",
   "name": "python3"
  },
  "language_info": {
   "codemirror_mode": {
    "name": "ipython",
    "version": 3
   },
   "file_extension": ".py",
   "mimetype": "text/x-python",
   "name": "python",
   "nbconvert_exporter": "python",
   "pygments_lexer": "ipython3",
   "version": "3.6.8"
  }
 },
 "nbformat": 4,
 "nbformat_minor": 2
}
